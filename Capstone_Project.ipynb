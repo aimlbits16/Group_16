{
  "nbformat": 4,
  "nbformat_minor": 0,
  "metadata": {
    "kernelspec": {
      "display_name": "Python 3",
      "language": "python",
      "name": "python3"
    },
    "language_info": {
      "codemirror_mode": {
        "name": "ipython",
        "version": 3
      },
      "file_extension": ".py",
      "mimetype": "text/x-python",
      "name": "python",
      "nbconvert_exporter": "python",
      "pygments_lexer": "ipython3",
      "version": "3.7.1"
    },
    "colab": {
      "name": "Capstone-Project.ipynb",
      "provenance": [],
      "collapsed_sections": [],
      "include_colab_link": true
    }
  },
  "cells": [
    {
      "cell_type": "markdown",
      "metadata": {
        "id": "view-in-github",
        "colab_type": "text"
      },
      "source": [
        "<a href=\"https://colab.research.google.com/github/aimlbits16/Group_16/blob/master/Capstone_Project.ipynb\" target=\"_parent\"><img src=\"https://colab.research.google.com/assets/colab-badge.svg\" alt=\"Open In Colab\"/></a>"
      ]
    },
    {
      "cell_type": "markdown",
      "metadata": {
        "id": "Y0vHLV3OJq1a",
        "colab_type": "text"
      },
      "source": [
        "2.1\tProblem definition:\n",
        "\n",
        "Predict denials of denial claims from history data"
      ]
    },
    {
      "cell_type": "code",
      "metadata": {
        "id": "97V983d4KAvd",
        "colab_type": "code",
        "colab": {}
      },
      "source": [
        "from google.colab import drive\n",
        "drive.mount('/content/gdrive', force_remount=True)"
      ],
      "execution_count": 0,
      "outputs": []
    },
    {
      "cell_type": "markdown",
      "metadata": {
        "id": "X_xBZVNdJq1c",
        "colab_type": "text"
      },
      "source": [
        "2.2\tHistory Data Set \n",
        "Data in excel contains three tabs\n",
        "\n",
        "\tTab-1 contains all attributes of the claims processed except Label   \n",
        "\tTab-2 contains only Target variable (Label) of each row of Tab-1 data with one common attribute  \n",
        "\tTab-3 contains all attribute list "
      ]
    },
    {
      "cell_type": "markdown",
      "metadata": {
        "id": "aZijYswqJq1d",
        "colab_type": "text"
      },
      "source": [
        "2.3 Data Pre-processing \n",
        "\n",
        "1.Read Tab1- data set and Tab-2 Data set and create two panda data frames\n",
        "\n",
        "2.Merge two data frames into one to place Label properly against each row.\n",
        "\n",
        "3.Attributes of Tab-1 and Tab-2 are shown below"
      ]
    },
    {
      "cell_type": "code",
      "metadata": {
        "id": "PdjBrm-KJq1f",
        "colab_type": "code",
        "colab": {},
        "outputId": "18009014-0843-4247-cb1f-52502af2eda6"
      },
      "source": [
        "# Library Imports\n",
        "\n",
        "import sys\n",
        "print('python:{}'.format(sys.version))\n",
        "import scipy as sp\n",
        "print('scipy:{}'.format(sp.__version__))\n",
        "import numpy as np\n",
        "print('numpy:{}'.format(np.__version__))\n",
        "import pandas as pd\n",
        "print('pandas:{}'.format(pd.__version__))"
      ],
      "execution_count": 0,
      "outputs": [
        {
          "output_type": "stream",
          "text": [
            "python:3.7.1 (default, Dec 10 2018, 22:54:23) [MSC v.1915 64 bit (AMD64)]\n",
            "scipy:1.4.1\n",
            "numpy:1.16.5\n",
            "pandas:0.25.1\n"
          ],
          "name": "stdout"
        }
      ]
    },
    {
      "cell_type": "code",
      "metadata": {
        "id": "e9ITZz3HJq1p",
        "colab_type": "code",
        "colab": {},
        "outputId": "9e8b734c-aeb5-4725-9d26-7ec54727f160"
      },
      "source": [
        "# Data Reads - All required data is in data folders\n",
        "InputFolder = '/content/gdrive/My Drive/capstone-project/input_data'\n",
        "OutFolder = '/content/gdrive/My Drive/capstone-project/output_data'\n",
        "inFile = InputFolder + '/ZCUPClaimDNA-History-Data-v2.xlsx'\n",
        "df_history_dataset = pd.read_excel(inFile, \n",
        "                                   sheet_name='HistoryData',\n",
        "                                   header=0,\n",
        "                                   converters={'srlno':np.int64, \n",
        "                                               'Claim.Number':str,\n",
        "                                               'Claim.Line.Number':str,\n",
        "                                               'Member.ID':str,\n",
        "                                               'Provider.ID':str,\n",
        "                                               'Revenue.Code':str,\n",
        "                                               'Service.Code':str,\n",
        "                                               'Place.Of.Service.Code':str,\n",
        "                                               'Procedure.Code':str,\n",
        "                                               'Diagnosis.Code':str,\n",
        "                                               'Claim.Charge.Amount':np.float64,\n",
        "                                               'Denial.Reason.Code':str,\n",
        "                                               'In.Out.Of.Network':str,\n",
        "                                               'Subscriber.Payment.Amount':np.float64,\n",
        "                                               'Provider.Payment.Amount':np.float64,\n",
        "                                               'Claim.Type':str,\n",
        "                                               'Claim.Subscriber.Type':str,\n",
        "                                               'Claim.Current.Status':str,\n",
        "                                               'Network.ID':str,\n",
        "                                               'Agreement.ID':str\n",
        "                                              })\n",
        "df_labels_dataset = pd.read_excel(inFile, \n",
        "                                  sheet_name='Accept-Denial-Label', \n",
        "                                  header=0,\n",
        "                                  converters={'srlno':np.int64, \n",
        "                                              'Label':np.int64\n",
        "                                             })\n",
        "\n",
        "df_data = pd.merge(df_history_dataset, df_labels_dataset, on='Srlno')\n",
        "\n",
        "print(df_history_dataset.head())\n",
        "print(df_labels_dataset.head())\n",
        "\n",
        "print(df_history_dataset.describe())\n",
        "print(df_labels_dataset.describe())\n",
        "\n",
        "print(df_data.head())\n",
        "print(df_data.describe())"
      ],
      "execution_count": 0,
      "outputs": [
        {
          "output_type": "stream",
          "text": [
            "   Srlno Claim.Number Claim.Line.Number Member.ID   Provider.ID Revenue.Code  \\\n",
            "0      1     28849991                 1   9583423  FA0001411002          128   \n",
            "1      2     81404290                 1  25210465  FA0001411002           24   \n",
            "2      3     81404290                 2  25210465  FA0001411002          128   \n",
            "3      4     81404290                 3  25210465  FA0001411002          250   \n",
            "4      5     81404290                 4  25210465  FA0001411002          258   \n",
            "\n",
            "  Service.Code Place.Of.Service.Code Procedure.Code Diagnosis.Code  \\\n",
            "0         RR8I                                               V5789   \n",
            "1         AL7I                                A0205          V5789   \n",
            "2         RR8I                                               V5789   \n",
            "3         AL7I                                               V5789   \n",
            "4         AL7I                                               V5789   \n",
            "\n",
            "   Claim.Charge.Amount Denial.Reason.Code In.Out.Of.Network  \\\n",
            "0         19356.960000                                    I   \n",
            "1             0.000000                                    I   \n",
            "2         27099.744000                PAI                 I   \n",
            "3          2262.097800                                    I   \n",
            "4           284.712735                                    I   \n",
            "\n",
            "   Subscriber.Payment.Amount  Provider.Payment.Amount Claim.Type  \\\n",
            "0                        0.0             15036.210000          M   \n",
            "1                        0.0                 0.000000          M   \n",
            "2                        0.0             27525.263805          M   \n",
            "3                        0.0                 0.000000          M   \n",
            "4                        0.0                 0.000000          M   \n",
            "\n",
            "  Claim.Subscriber.Type Claim.Current.Status    Network.ID  Agreement.ID  \n",
            "0                     H                    2  P00000000002  FH001310QB01  \n",
            "1                     H                   91  P00000000007  FH002451QPD1  \n",
            "2                     H                   91  P00000000007  FH002451QPD1  \n",
            "3                     H                   91  P00000000007  FH002451QPD1  \n",
            "4                     H                   91  P00000000007  FH002451QPD1  \n",
            "   Srlno  Label\n",
            "0      1      0\n",
            "1      2      0\n",
            "2      3      0\n",
            "3      4      0\n",
            "4      5      0\n",
            "               Srlno  Claim.Charge.Amount  Subscriber.Payment.Amount  \\\n",
            "count  472559.000000        472559.000000              472559.000000   \n",
            "mean   236280.000000          1684.487047                   0.060524   \n",
            "std    136416.177266          6516.274135                  14.559292   \n",
            "min         1.000000       -192496.165215                   0.000000   \n",
            "25%    118140.500000           141.831705                   0.000000   \n",
            "50%    236280.000000           327.142500                   0.000000   \n",
            "75%    354419.500000          1072.780500                   0.000000   \n",
            "max    472559.000000        756336.732525                7625.259600   \n",
            "\n",
            "       Provider.Payment.Amount  \n",
            "count            472559.000000  \n",
            "mean                299.664982  \n",
            "std                2651.754222  \n",
            "min                   0.000000  \n",
            "25%                   0.000000  \n",
            "50%                   0.000000  \n",
            "75%                   0.000000  \n",
            "max              491735.224680  \n",
            "               Srlno          Label\n",
            "count  472559.000000  472559.000000\n",
            "mean   236280.000000       0.004171\n",
            "std    136416.177266       0.064448\n",
            "min         1.000000       0.000000\n",
            "25%    118140.500000       0.000000\n",
            "50%    236280.000000       0.000000\n",
            "75%    354419.500000       0.000000\n",
            "max    472559.000000       1.000000\n",
            "   Srlno Claim.Number Claim.Line.Number Member.ID   Provider.ID Revenue.Code  \\\n",
            "0      1     28849991                 1   9583423  FA0001411002          128   \n",
            "1      2     81404290                 1  25210465  FA0001411002           24   \n",
            "2      3     81404290                 2  25210465  FA0001411002          128   \n",
            "3      4     81404290                 3  25210465  FA0001411002          250   \n",
            "4      5     81404290                 4  25210465  FA0001411002          258   \n",
            "\n",
            "  Service.Code Place.Of.Service.Code Procedure.Code Diagnosis.Code  ...  \\\n",
            "0         RR8I                                               V5789  ...   \n",
            "1         AL7I                                A0205          V5789  ...   \n",
            "2         RR8I                                               V5789  ...   \n",
            "3         AL7I                                               V5789  ...   \n",
            "4         AL7I                                               V5789  ...   \n",
            "\n",
            "   Denial.Reason.Code In.Out.Of.Network Subscriber.Payment.Amount  \\\n",
            "0                                     I                       0.0   \n",
            "1                                     I                       0.0   \n",
            "2                 PAI                 I                       0.0   \n",
            "3                                     I                       0.0   \n",
            "4                                     I                       0.0   \n",
            "\n",
            "   Provider.Payment.Amount  Claim.Type Claim.Subscriber.Type  \\\n",
            "0             15036.210000           M                     H   \n",
            "1                 0.000000           M                     H   \n",
            "2             27525.263805           M                     H   \n",
            "3                 0.000000           M                     H   \n",
            "4                 0.000000           M                     H   \n",
            "\n",
            "  Claim.Current.Status    Network.ID  Agreement.ID Label  \n",
            "0                    2  P00000000002  FH001310QB01     0  \n",
            "1                   91  P00000000007  FH002451QPD1     0  \n",
            "2                   91  P00000000007  FH002451QPD1     0  \n",
            "3                   91  P00000000007  FH002451QPD1     0  \n",
            "4                   91  P00000000007  FH002451QPD1     0  \n",
            "\n",
            "[5 rows x 21 columns]\n",
            "               Srlno  Claim.Charge.Amount  Subscriber.Payment.Amount  \\\n",
            "count  472559.000000        472559.000000              472559.000000   \n",
            "mean   236280.000000          1684.487047                   0.060524   \n",
            "std    136416.177266          6516.274135                  14.559292   \n",
            "min         1.000000       -192496.165215                   0.000000   \n",
            "25%    118140.500000           141.831705                   0.000000   \n",
            "50%    236280.000000           327.142500                   0.000000   \n",
            "75%    354419.500000          1072.780500                   0.000000   \n",
            "max    472559.000000        756336.732525                7625.259600   \n",
            "\n",
            "       Provider.Payment.Amount          Label  \n",
            "count            472559.000000  472559.000000  \n",
            "mean                299.664982       0.004171  \n",
            "std                2651.754222       0.064448  \n",
            "min                   0.000000       0.000000  \n",
            "25%                   0.000000       0.000000  \n",
            "50%                   0.000000       0.000000  \n",
            "75%                   0.000000       0.000000  \n",
            "max              491735.224680       1.000000  \n"
          ],
          "name": "stdout"
        }
      ]
    },
    {
      "cell_type": "markdown",
      "metadata": {
        "id": "2eBVuE5IJq1t",
        "colab_type": "text"
      },
      "source": [
        "2.4 Find Shape and data type "
      ]
    },
    {
      "cell_type": "code",
      "metadata": {
        "id": "l6fs2MpOJq1t",
        "colab_type": "code",
        "colab": {},
        "outputId": "50b831bd-6f3d-4ebc-eb68-0d643868b0e4"
      },
      "source": [
        "print(df_data.shape)\n",
        "dataTypeSeries = df_data.dtypes\n",
        "print(dataTypeSeries)"
      ],
      "execution_count": 0,
      "outputs": [
        {
          "output_type": "stream",
          "text": [
            "(472559, 21)\n",
            "Srlno                          int64\n",
            "Claim.Number                  object\n",
            "Claim.Line.Number             object\n",
            "Member.ID                     object\n",
            "Provider.ID                   object\n",
            "Revenue.Code                  object\n",
            "Service.Code                  object\n",
            "Place.Of.Service.Code         object\n",
            "Procedure.Code                object\n",
            "Diagnosis.Code                object\n",
            "Claim.Charge.Amount          float64\n",
            "Denial.Reason.Code            object\n",
            "In.Out.Of.Network             object\n",
            "Subscriber.Payment.Amount    float64\n",
            "Provider.Payment.Amount      float64\n",
            "Claim.Type                    object\n",
            "Claim.Subscriber.Type         object\n",
            "Claim.Current.Status          object\n",
            "Network.ID                    object\n",
            "Agreement.ID                  object\n",
            "Label                          int64\n",
            "dtype: object\n"
          ],
          "name": "stdout"
        }
      ]
    },
    {
      "cell_type": "markdown",
      "metadata": {
        "id": "gMdp8SlTJq1y",
        "colab_type": "text"
      },
      "source": [
        "2.5\tTarget Value (Label) setting and cleaning"
      ]
    },
    {
      "cell_type": "markdown",
      "metadata": {
        "id": "pMx_mX8FJq10",
        "colab_type": "text"
      },
      "source": [
        "2.5.1    We will consider following valid Denial.Reason.Code F13, J8G, JO5, JB8, JE1, JC9, JF1, JF9, JG1, JPA and JES\n",
        "The goal is to develop predictive model to predict claims that would be denied with the above Denial.Reason.Code only. Any row with non-valid Denial.Reason.Code will be considered as garbage that need to be deleted"
      ]
    },
    {
      "cell_type": "code",
      "metadata": {
        "id": "0lPrw792Jq11",
        "colab_type": "code",
        "colab": {},
        "outputId": "73e2b473-6815-4392-f7f7-e49f74e06aea"
      },
      "source": [
        "print(df_data.groupby('Denial.Reason.Code')['Denial.Reason.Code'].count())\n",
        "\n",
        "validReasonCodes = ['F13', 'J8G', 'JO5', 'JB8', 'JE1', 'JC9', 'JF1', 'JF9', 'JG1', 'JPA', 'JES',' ']\n",
        "df_data=df_data[(df_data['Denial.Reason.Code'].isin(validReasonCodes))]\n",
        "\n",
        "print(df_data.groupby('Denial.Reason.Code')['Denial.Reason.Code'].count())"
      ],
      "execution_count": 0,
      "outputs": [
        {
          "output_type": "stream",
          "text": [
            "Denial.Reason.Code\n",
            "       326030\n",
            "104        44\n",
            "17          3\n",
            "18          1\n",
            "19        242\n",
            "        ...  \n",
            "TF1      1031\n",
            "TR2        22\n",
            "UM0         2\n",
            "UM1        28\n",
            "UM2         7\n",
            "Name: Denial.Reason.Code, Length: 259, dtype: int64\n",
            "Denial.Reason.Code\n",
            "       326030\n",
            "F13      1068\n",
            "J8G       382\n",
            "JB8       128\n",
            "JC9        49\n",
            "JE1        33\n",
            "JES        50\n",
            "JF1         4\n",
            "JF9        98\n",
            "JG1        10\n",
            "JO5       105\n",
            "JPA        44\n",
            "Name: Denial.Reason.Code, dtype: int64\n"
          ],
          "name": "stdout"
        }
      ]
    },
    {
      "cell_type": "markdown",
      "metadata": {
        "id": "ku-Q4WPUJq16",
        "colab_type": "text"
      },
      "source": [
        "2.5.2   Check distribution of Label in terms of percentage 0/1"
      ]
    },
    {
      "cell_type": "code",
      "metadata": {
        "id": "-Swv3Q5MJq17",
        "colab_type": "code",
        "colab": {},
        "outputId": "0b8214dd-1336-41c6-c318-78fd427a38b5"
      },
      "source": [
        "distLabels = (df_data['Label'].value_counts()/ df_data['Label'].count())*100\n",
        "print('Distribution:\\n{}'.format(distLabels))"
      ],
      "execution_count": 0,
      "outputs": [
        {
          "output_type": "stream",
          "text": [
            "Distribution:\n",
            "0    99.399087\n",
            "1     0.600913\n",
            "Name: Label, dtype: float64\n"
          ],
          "name": "stdout"
        }
      ]
    },
    {
      "cell_type": "markdown",
      "metadata": {
        "id": "ksoOIfaEJq1_",
        "colab_type": "text"
      },
      "source": [
        "2.5.3   Find number of  distinct valid Denial.Reason.Code"
      ]
    },
    {
      "cell_type": "code",
      "metadata": {
        "id": "VHiZliBhJq2B",
        "colab_type": "code",
        "colab": {},
        "outputId": "23577b6f-7a2c-4309-d935-1544980664e1"
      },
      "source": [
        "print(df_data_1['Denial.Reason.Code'].unique())"
      ],
      "execution_count": 0,
      "outputs": [
        {
          "output_type": "stream",
          "text": [
            "['JB8' 'J8G' 'F13' 'JF1' 'JE1' 'JES' 'JO5' 'JG1' 'JPA' 'JC9' 'JF9']\n"
          ],
          "name": "stdout"
        }
      ]
    },
    {
      "cell_type": "markdown",
      "metadata": {
        "id": "f_jIVQyYJq2H",
        "colab_type": "text"
      },
      "source": [
        "2.6\tHandling Predictor Variables\n",
        "Predictors variables ( All input variables except Target variable)  that are used to predict the 'Target Variable'.\n"
      ]
    },
    {
      "cell_type": "markdown",
      "metadata": {
        "id": "9RQOjw5SJq2I",
        "colab_type": "text"
      },
      "source": [
        "2.6.1  Identify\n",
        "\n",
        "•\tcontinuous numeric value\n",
        "•\ttag/code value\n",
        "•\tOther columns ID type."
      ]
    },
    {
      "cell_type": "code",
      "metadata": {
        "id": "pduWXyyzJq2J",
        "colab_type": "code",
        "colab": {}
      },
      "source": [
        ""
      ],
      "execution_count": 0,
      "outputs": []
    },
    {
      "cell_type": "markdown",
      "metadata": {
        "id": "sxkxj-_pJq2O",
        "colab_type": "text"
      },
      "source": [
        "2.6.2  Find"
      ]
    },
    {
      "cell_type": "code",
      "metadata": {
        "id": "G-GWjb8gJq2P",
        "colab_type": "code",
        "colab": {},
        "outputId": "e203382a-e9bd-4b9d-d996-3e5bb3777617"
      },
      "source": [
        "print(df_data['Revenue.Code'].unique())\n",
        "print(df_data['Service.Code'].unique())\n",
        "print(df_data['Diagnosis.Code'].unique())"
      ],
      "execution_count": 0,
      "outputs": [
        {
          "output_type": "stream",
          "text": [
            "['128' '24' '250' '258' '271' '300' '301' '305' '306' '307' '309' '420'\n",
            " '424' '430' '434' '440' '444' '636' '351' '324' '352' '410' '730' '361'\n",
            " '302' '320' '350' '390' '274' '370' '921' '450' '915' '912' '126' '124'\n",
            " '914' '771' '483' '913' '740' '121' '402' '905' '341' '343' '482' '762'\n",
            " '949' '431' '421' '761' '359' '333' '943' '441' '433' '272' '490' '710'\n",
            " '278' '259' '750' '312' '510' '360' '637' '329' '206' '200' '460' '481'\n",
            " '270' '275' '480' '276' '611' '310' '314' '261' '369' '920' '940' '941'\n",
            " '911' '919' '917' '111' '260' '403' '279' '391' '918' '801' '999' '311'\n",
            " '610' '612' '401' '323' '344' '731' '981' '412' '812' '127' '322' '819'\n",
            " '404' '829' '131' '633' '615' '335' '614' ' ' '922' '822' '400' '732'\n",
            " '25' '929' '948' '942' '622' '616' '342' '129' '635' '634' '118' '331'\n",
            " '443' '255' '136' '134' '254' '117' '249' '100' '122' '171' '720' '210'\n",
            " '723' '821' '722' '471' '112' '172' '900' '916' '123' '120' '618' '174'\n",
            " '205' '790' 'XXXX' '173' '831' '901' '413' '832' '811' '881' '810' '419'\n",
            " '682' '214' '851' '804' '489' '770' '179' '191' '721' '371' '515' '208'\n",
            " '760' '684']\n",
            "['RR8I' 'AL7I' 'HV7I' 'CT7I' 'ER7O' 'SB7Y' 'ER7I' 'RT8I' 'RM8I' 'RM8W'\n",
            " 'MP7O' 'SB7W' 'LA7O' 'MH7O' 'IO7O' 'RB8I' 'RA7O' 'MD7O' 'TH7X' ' ' 'TH7O'\n",
            " 'OE7O' 'ST7O' 'OP7O' 'CT7O' 'RD7O' 'CR7O' 'SU7A' 'SU7O' 'CL7O' 'CT7Y'\n",
            " 'CO7Y' 'IN7I' 'CD7O' 'BS7O' 'IC7I' 'MR7O' 'DU7O' 'OM7O' 'OE7I' 'MR7I'\n",
            " 'BF7O' 'RB7I' 'IH7O' 'IMY' 'PN7O' 'PF7O' 'TO7W' 'MR7Y' 'RJ7Y' 'PE7O'\n",
            " 'DI7O' 'CT8Y' 'RB9I' 'SI7Y' 'TE7O' 'THO' 'SA7A' 'DM7O' 'IJV' 'IHV' 'RR7I'\n",
            " 'MR8Y' 'ERI' 'CDI' 'ST7X' 'OV6I' 'RK8Y' 'RL8Y' 'CC8A' 'RT9I' 'RM9I'\n",
            " 'RB7W' 'RI7I' 'RY8I' 'NS7I' 'CC7I' 'GB7A' 'RY7I' 'NI7I' 'PE7Y' 'UNI'\n",
            " 'RV8W' 'RY8W' 'EC7O' 'MSO' 'RAO' 'MRO' 'MH7I' 'RV7W' 'RY7W' 'RI7Y' 'HHC'\n",
            " 'THI' 'HD7O' 'MM7Y' 'CO8Y' 'LAV' 'OV6V' 'SUI' 'RA1I' 'MDO' 'PCI' 'OVV'\n",
            " 'MDV' 'SUV' 'PCV' 'CDO' 'MDI' 'RAV' 'DMV' 'OVO' 'RO7I' 'PE7I' 'RK7Y']\n",
            "['V5789' '2910' '43491' ... '40301' '78829' '6819']\n"
          ],
          "name": "stdout"
        }
      ]
    },
    {
      "cell_type": "markdown",
      "metadata": {
        "id": "32hHH2a9Jq2W",
        "colab_type": "text"
      },
      "source": [
        "2.6.3  Handling Categorical Values"
      ]
    },
    {
      "cell_type": "code",
      "metadata": {
        "id": "SJqWaS4mJq2X",
        "colab_type": "code",
        "colab": {},
        "outputId": "e39d6e10-abed-4005-a883-75dc7539b37b"
      },
      "source": [
        "#2.6.3.1 Clubbing of Category Value (1 ,2,3 – High , Medium , Low possibility group respectively)\n",
        "\n",
        "# Revenue Code\n",
        "High_Revenue_Code = [\"0810\", \"0811\", \"0124\", \"0261\", \"0260\", \"0331\", \"0914\", \"0174\", \" \", \"0,634\", \"0173\", \"0682\", \"0126\", \"0128\", \"0172\", \"0127\", \"0200\", \"0821\", \"0134\", \"0302\", \"0740\", \"0249\", \"0270\", \"0771\", \"0361\", \"0310\", \"0434\"]\n",
        "Medium_Revenue_Code= [\"0210\", \"0275\", \"0122\", \"0610\", \"0206\", \"0258\", \"0444\", \"0278\", \"0117\", \"0259\", \"0121\", \"0112\", \"0276\", \"0731\", \"0750\", \"0460\", \"0360\", \"0271\", \"0730\", \"0307\", \"0424\", \"0370\", \"0250\", \"0410\", \"0940\", \"0305\", \"0350\", \"0921\", \"0480\", \"0111\", \"0351\", \"0920\", \"0636\", \"0309\", \"0300\", \"0390\", \"0301\", \"0450\", \"0440\", \"0306\", \"0311\", \"0324\", \"0710\", \"0341\", \"0272\", \"0343\", \"0942\", \"0171\", \"0482\", \"0420\", \"0490\", \"0483\", \"0312\", \"0481\", \"0352\", \"0510\", \"0402\", \"0320\", \"0720\", \"0762\", \"0761\", \"0430\", \"0403\"]\n",
        "\n",
        "df_data.loc[df_data['Revenue.Code'].isin(High_Revenue_Code)]=1\n",
        "df_data.loc[df_data['Revenue.Code'].isin(Medium_Revenue_Code)]=2\n",
        "df_data.loc[~df_data['Revenue.Code'].isin(High_Revenue_Code).isin(Medium_Revenue_Code)]=3\n",
        "\n",
        "\n",
        "# Service Code\n",
        "d = {\n",
        "'1' : {\"UNI\", \"RL8Y\", \"RM8W\", \"DU7O\", \"IH7O\", \"RM8I\", \"RI7Y\", \"SB7W\", \"GB7A\", \"NI7I\", \"OVV\", \"RM9I\", \"RR8I\", \"IMY\", \"RT8I\", \"RY8W\", \"RY7I\", \"IC7I\", \"SU7A\", \"ER7I\"},\n",
        "'2' : {\"TO7W\", \"TE7O\", \"CC7I\", \"HV7I\", \"MR7O\", \"IN7I\", \"AL7I\", \"DI7O\", \"CT8Y\", \"RB7W\", \"RV8W\", \"CT7I\", \"RB8I\", \"RK8Y\", \"RB7I\", \"OE7I\", \"RY8I\", \"OP7O\", \"LA7O\", \"NS7I\", \"CL7O\", \"MR7Y\", \"ER7O\", \"CT7Y\", \"CT7O\", \"RA7O\", \"MD7O\", \"TH7O\"},\n",
        "'3' : {\"Rest\"}\n",
        "}\n",
        "\n",
        "newdict = {i:k for k, v in d.items() for i in v}\n",
        "df_data['Service.Code'].str.findall('|'.join(newdict.keys())).str[0].map(newdict)\n",
        "df_data['Service.Code']=df_data['Service.Code'].str.findall('|'.join(newdict.keys())).str[0].map(newdict)\n",
        "\n",
        "# Diagnosis Code\n",
        "d = {\n",
        "'1' : {\"2929\", \"29690\", \"V202\", \"29663\", \"29622\", \"9962\", \"67524\", \"5193\", \"V045\", \"29530\", \"7999\", \"430\", \"29664\", \"5711\", \"79095\", \"30411\", \"29189\", \"6162\", \"29570\", \"29630\", \"29644\", \"5289\", \"20240\", \"99741\", \"37943\", \"9352\", \"V08\", \"V1255\", \"V5041\", \"80225\", \"6108\", \"57480\", \"5070\", \"V6284\", \"52460\", \"8024\", \"99681\", \"V3101\"},\n",
        "'2' : {\"75249\", \"71100\", \"29660\", \"78722\", \"2273\", \"6868\", \"64844\", \"73671\", \"37730\", \"61804\", \"6146\", \"V5831\", \"2989\", \"7503\", \"72992\", \"29181\", \"2452\", \"80841\", \"8250\", \"66111\", \"9950\", \"29640\", \"9220\", \"99563\", \"7222\", \"29650\", \"65811\", \"29632\", \"52403\", \"99676\", \"27541\", \"4168\", \"2102\", \"2182\", \"0090\", \"34691\", \"5738\", \"68100\", \"2776\", \"1809\", \"5362\", \"29633\", \"29680\", \"61801\", \"34290\", \"72990\", \"64981\", \"2912\", \"6170\", \"1746\", \"6183\", \"78499\", \"52489\", \"53551\", \"42823\", \"30501\", \"3682\", \"V3000\", \"7226\", \"64303\", \"24200\", \"8832\", \"57470\", \"9726\", \"29689\", \"5409\", \"8248\", \"73730\", \"2181\", \"57450\", \"85011\", \"6121\", \"64893\", \"6253\", \"99883\", \"96501\", \"193\", \"53190\", \"6268\", \"42841\", \"226\", \"57400\", \"4280\", \"1960\", \"69589\", \"2777\", \"2180\", \"1743\", \"1742\", \"179\", \"6110\", \"6272\", \"60001\", \"53240\", \"V552\", \"6827\", \"5559\", \"6185\", \"8600\", \"81305\", \"07054\", \"0479\", \"45340\", \"6824\", \"5551\", \"38611\", \"5941\", \"2271\", \"72888\", \"80703\", \"6227\", \"6823\", \"6184\", \"4377\", \"62212\", \"72210\", \"2891\", \"5533\", \"5722\", \"8246\", \"V510\", \"6111\", \"2572\", \"2720\", \"5789\", \"55321\", \"3688\", \"2189\", \"2410\", \"1541\", \"5856\", \"65231\", \"6262\", \"5609\", \"5641\", \"7455\", \"1550\", \"2875\", \"220\", \"78720\", \"30300\", \"81209\", \"566\", \"99812\", \"56032\", \"4321\", \"1745\", \"78630\", \"5119\", \"5400\", \"34590\", \"57511\", \"30400\", \"4940\", \"5770\", \"25201\", \"75612\", \"78057\", \"6181\", \"61179\", \"1749\", \"27651\", \"73819\", \"78799\", \"00845\", \"56400\", \"99832\", \"5712\", \"4589\", \"42741\", \"78701\", \"4659\", \"57420\", \"30500\", \"7804\", \"30391\", \"5693\", \"1744\", \"6100\", \"41401\", \"55092\", \"5589\", \"61172\", \"99674\", \"1741\", \"61189\", \"49392\", \"82525\", \"9351\", \"V5331\", \"2910\", \"78901\", \"5303\", \"80126\", \"6271\", \"2141\", \"7842\", \"59970\", \"25002\", \"78791\", \"1748\", \"8500\", \"78900\", \"217\", \"1985\", \"79389\", \"42731\", \"78906\", \"99673\", \"7384\", \"78009\", \"650\", \"6210\", \"51881\", \"81342\", \"78659\", \"72402\", \"56210\", \"2851\", \"49322\", \"486\", \"55090\", \"2920\", \"56211\", \"V700\", \"57410\", \"4359\", \"5921\", \"03849\", \"78903\", \"53550\", \"7840\", \"2330\", \"64403\", \"33819\", \"6826\", \"78907\", \"V5811\", \"6202\", \"78652\", \"431\", \"V6759\", \"78079\", \"72252\", \"7802\", \"2809\", \"V7651\", \"7295\", \"78650\", \"65421\", \"0389\", \"43491\", \"78909\", \"2859\", \"V7611\", \"V7612\", \"3669\", \"V5789\", \"V571\"},\n",
        "'3' : {\"Rest\"}\n",
        "}\n",
        "\n",
        "newdict = {i:k for k, v in d.items() for i in v}\n",
        "df_data['Diagnosis.Code'].str.findall('|'.join(newdict.keys())).str[0].map(newdict)\n",
        "df_data['Diagnosis.Code']=df_data['Diagnosis.Code'].str.findall('|'.join(newdict.keys())).str[0].map(newdict)\n",
        "\n",
        "print(df_data['Revenue.Code'].unique())\n",
        "print(df_data['Service.Code'].unique())\n",
        "print(df_data['Diagnosis.Code'].unique())"
      ],
      "execution_count": 0,
      "outputs": [
        {
          "output_type": "error",
          "ename": "NameError",
          "evalue": "name 'df_data' is not defined",
          "traceback": [
            "\u001b[1;31m---------------------------------------------------------------------------\u001b[0m",
            "\u001b[1;31mNameError\u001b[0m                                 Traceback (most recent call last)",
            "\u001b[1;32m<ipython-input-1-146f581fb867>\u001b[0m in \u001b[0;36m<module>\u001b[1;34m\u001b[0m\n\u001b[0;32m      5\u001b[0m \u001b[0mMedium_Revenue_Code\u001b[0m\u001b[1;33m=\u001b[0m \u001b[1;33m[\u001b[0m\u001b[1;34m\"0210\"\u001b[0m\u001b[1;33m,\u001b[0m \u001b[1;34m\"0275\"\u001b[0m\u001b[1;33m,\u001b[0m \u001b[1;34m\"0122\"\u001b[0m\u001b[1;33m,\u001b[0m \u001b[1;34m\"0610\"\u001b[0m\u001b[1;33m,\u001b[0m \u001b[1;34m\"0206\"\u001b[0m\u001b[1;33m,\u001b[0m \u001b[1;34m\"0258\"\u001b[0m\u001b[1;33m,\u001b[0m \u001b[1;34m\"0444\"\u001b[0m\u001b[1;33m,\u001b[0m \u001b[1;34m\"0278\"\u001b[0m\u001b[1;33m,\u001b[0m \u001b[1;34m\"0117\"\u001b[0m\u001b[1;33m,\u001b[0m \u001b[1;34m\"0259\"\u001b[0m\u001b[1;33m,\u001b[0m \u001b[1;34m\"0121\"\u001b[0m\u001b[1;33m,\u001b[0m \u001b[1;34m\"0112\"\u001b[0m\u001b[1;33m,\u001b[0m \u001b[1;34m\"0276\"\u001b[0m\u001b[1;33m,\u001b[0m \u001b[1;34m\"0731\"\u001b[0m\u001b[1;33m,\u001b[0m \u001b[1;34m\"0750\"\u001b[0m\u001b[1;33m,\u001b[0m \u001b[1;34m\"0460\"\u001b[0m\u001b[1;33m,\u001b[0m \u001b[1;34m\"0360\"\u001b[0m\u001b[1;33m,\u001b[0m \u001b[1;34m\"0271\"\u001b[0m\u001b[1;33m,\u001b[0m \u001b[1;34m\"0730\"\u001b[0m\u001b[1;33m,\u001b[0m \u001b[1;34m\"0307\"\u001b[0m\u001b[1;33m,\u001b[0m \u001b[1;34m\"0424\"\u001b[0m\u001b[1;33m,\u001b[0m \u001b[1;34m\"0370\"\u001b[0m\u001b[1;33m,\u001b[0m \u001b[1;34m\"0250\"\u001b[0m\u001b[1;33m,\u001b[0m \u001b[1;34m\"0410\"\u001b[0m\u001b[1;33m,\u001b[0m \u001b[1;34m\"0940\"\u001b[0m\u001b[1;33m,\u001b[0m \u001b[1;34m\"0305\"\u001b[0m\u001b[1;33m,\u001b[0m \u001b[1;34m\"0350\"\u001b[0m\u001b[1;33m,\u001b[0m \u001b[1;34m\"0921\"\u001b[0m\u001b[1;33m,\u001b[0m \u001b[1;34m\"0480\"\u001b[0m\u001b[1;33m,\u001b[0m \u001b[1;34m\"0111\"\u001b[0m\u001b[1;33m,\u001b[0m \u001b[1;34m\"0351\"\u001b[0m\u001b[1;33m,\u001b[0m \u001b[1;34m\"0920\"\u001b[0m\u001b[1;33m,\u001b[0m \u001b[1;34m\"0636\"\u001b[0m\u001b[1;33m,\u001b[0m \u001b[1;34m\"0309\"\u001b[0m\u001b[1;33m,\u001b[0m \u001b[1;34m\"0300\"\u001b[0m\u001b[1;33m,\u001b[0m \u001b[1;34m\"0390\"\u001b[0m\u001b[1;33m,\u001b[0m \u001b[1;34m\"0301\"\u001b[0m\u001b[1;33m,\u001b[0m \u001b[1;34m\"0450\"\u001b[0m\u001b[1;33m,\u001b[0m \u001b[1;34m\"0440\"\u001b[0m\u001b[1;33m,\u001b[0m \u001b[1;34m\"0306\"\u001b[0m\u001b[1;33m,\u001b[0m \u001b[1;34m\"0311\"\u001b[0m\u001b[1;33m,\u001b[0m \u001b[1;34m\"0324\"\u001b[0m\u001b[1;33m,\u001b[0m \u001b[1;34m\"0710\"\u001b[0m\u001b[1;33m,\u001b[0m \u001b[1;34m\"0341\"\u001b[0m\u001b[1;33m,\u001b[0m \u001b[1;34m\"0272\"\u001b[0m\u001b[1;33m,\u001b[0m \u001b[1;34m\"0343\"\u001b[0m\u001b[1;33m,\u001b[0m \u001b[1;34m\"0942\"\u001b[0m\u001b[1;33m,\u001b[0m \u001b[1;34m\"0171\"\u001b[0m\u001b[1;33m,\u001b[0m \u001b[1;34m\"0482\"\u001b[0m\u001b[1;33m,\u001b[0m \u001b[1;34m\"0420\"\u001b[0m\u001b[1;33m,\u001b[0m \u001b[1;34m\"0490\"\u001b[0m\u001b[1;33m,\u001b[0m \u001b[1;34m\"0483\"\u001b[0m\u001b[1;33m,\u001b[0m \u001b[1;34m\"0312\"\u001b[0m\u001b[1;33m,\u001b[0m \u001b[1;34m\"0481\"\u001b[0m\u001b[1;33m,\u001b[0m \u001b[1;34m\"0352\"\u001b[0m\u001b[1;33m,\u001b[0m \u001b[1;34m\"0510\"\u001b[0m\u001b[1;33m,\u001b[0m \u001b[1;34m\"0402\"\u001b[0m\u001b[1;33m,\u001b[0m \u001b[1;34m\"0320\"\u001b[0m\u001b[1;33m,\u001b[0m \u001b[1;34m\"0720\"\u001b[0m\u001b[1;33m,\u001b[0m \u001b[1;34m\"0762\"\u001b[0m\u001b[1;33m,\u001b[0m \u001b[1;34m\"0761\"\u001b[0m\u001b[1;33m,\u001b[0m \u001b[1;34m\"0430\"\u001b[0m\u001b[1;33m,\u001b[0m \u001b[1;34m\"0403\"\u001b[0m\u001b[1;33m]\u001b[0m\u001b[1;33m\u001b[0m\u001b[1;33m\u001b[0m\u001b[0m\n\u001b[0;32m      6\u001b[0m \u001b[1;33m\u001b[0m\u001b[0m\n\u001b[1;32m----> 7\u001b[1;33m \u001b[0mdf_data\u001b[0m\u001b[1;33m.\u001b[0m\u001b[0mloc\u001b[0m\u001b[1;33m[\u001b[0m\u001b[0mdf_data\u001b[0m\u001b[1;33m[\u001b[0m\u001b[1;34m'Revenue.Code'\u001b[0m\u001b[1;33m]\u001b[0m\u001b[1;33m.\u001b[0m\u001b[0misin\u001b[0m\u001b[1;33m(\u001b[0m\u001b[0mHigh_Revenue_Code\u001b[0m\u001b[1;33m)\u001b[0m\u001b[1;33m]\u001b[0m\u001b[1;33m=\u001b[0m\u001b[1;36m1\u001b[0m\u001b[1;33m\u001b[0m\u001b[1;33m\u001b[0m\u001b[0m\n\u001b[0m\u001b[0;32m      8\u001b[0m \u001b[0mdf_data\u001b[0m\u001b[1;33m.\u001b[0m\u001b[0mloc\u001b[0m\u001b[1;33m[\u001b[0m\u001b[0mdf_data\u001b[0m\u001b[1;33m[\u001b[0m\u001b[1;34m'Revenue.Code'\u001b[0m\u001b[1;33m]\u001b[0m\u001b[1;33m.\u001b[0m\u001b[0misin\u001b[0m\u001b[1;33m(\u001b[0m\u001b[0mMedium_Revenue_Code\u001b[0m\u001b[1;33m)\u001b[0m\u001b[1;33m]\u001b[0m\u001b[1;33m=\u001b[0m\u001b[1;36m2\u001b[0m\u001b[1;33m\u001b[0m\u001b[1;33m\u001b[0m\u001b[0m\n\u001b[0;32m      9\u001b[0m \u001b[0mdf_data\u001b[0m\u001b[1;33m.\u001b[0m\u001b[0mloc\u001b[0m\u001b[1;33m[\u001b[0m\u001b[1;33m~\u001b[0m\u001b[0mdf_data\u001b[0m\u001b[1;33m[\u001b[0m\u001b[1;34m'Revenue.Code'\u001b[0m\u001b[1;33m]\u001b[0m\u001b[1;33m.\u001b[0m\u001b[0misin\u001b[0m\u001b[1;33m(\u001b[0m\u001b[0mHigh_Revenue_Code\u001b[0m\u001b[1;33m)\u001b[0m\u001b[1;33m.\u001b[0m\u001b[0misin\u001b[0m\u001b[1;33m(\u001b[0m\u001b[0mMedium_Revenue_Code\u001b[0m\u001b[1;33m)\u001b[0m\u001b[1;33m]\u001b[0m\u001b[1;33m=\u001b[0m\u001b[1;36m3\u001b[0m\u001b[1;33m\u001b[0m\u001b[1;33m\u001b[0m\u001b[0m\n",
            "\u001b[1;31mNameError\u001b[0m: name 'df_data' is not defined"
          ]
        }
      ]
    },
    {
      "cell_type": "markdown",
      "metadata": {
        "id": "4YUTgtNKJq2d",
        "colab_type": "text"
      },
      "source": [
        "2.6.4          Find column wise missing value in percentage  "
      ]
    },
    {
      "cell_type": "code",
      "metadata": {
        "id": "tx41NFyNJq2e",
        "colab_type": "code",
        "colab": {},
        "outputId": "0825ffd9-8ac8-4ebc-fb58-79f88e12892c"
      },
      "source": [
        "percent_missing = df_data.isnull().sum() *100 / len(df_data)\n",
        "print(percent_missing)"
      ],
      "execution_count": 0,
      "outputs": [
        {
          "output_type": "stream",
          "text": [
            "Srlno                         0.000000\n",
            "Claim.Number                 53.055631\n",
            "Claim.Line.Number             0.000000\n",
            "Member.ID                     0.000000\n",
            "Provider.ID                   0.000000\n",
            "Revenue.Code                  0.000000\n",
            "Service.Code                  0.000000\n",
            "Place.Of.Service.Code         0.000000\n",
            "Procedure.Code                0.000000\n",
            "Diagnosis.Code                0.000000\n",
            "Claim.Charge.Amount           0.000000\n",
            "Denial.Reason.Code            0.000000\n",
            "In.Out.Of.Network             0.000000\n",
            "Subscriber.Payment.Amount     0.000000\n",
            "Provider.Payment.Amount       0.000000\n",
            "Claim.Type                    0.000000\n",
            "Claim.Subscriber.Type         0.000000\n",
            "Claim.Current.Status          0.000000\n",
            "Network.ID                    0.000000\n",
            "Agreement.ID                  0.000000\n",
            "Label                         0.000000\n",
            "dtype: float64\n"
          ],
          "name": "stdout"
        }
      ]
    },
    {
      "cell_type": "markdown",
      "metadata": {
        "id": "OCTwNKOeJq2l",
        "colab_type": "text"
      },
      "source": [
        "2.6.5\t       Find Duplicate rows and drop those"
      ]
    },
    {
      "cell_type": "code",
      "metadata": {
        "id": "ybKNotDDJq2m",
        "colab_type": "code",
        "colab": {}
      },
      "source": [
        "df_data=df_data.drop_duplicates(subset=None, keep = 'first', inplace=False)"
      ],
      "execution_count": 0,
      "outputs": []
    },
    {
      "cell_type": "markdown",
      "metadata": {
        "id": "IZ58zvTPJq2r",
        "colab_type": "text"
      },
      "source": [
        "2.6.6\t       Drop all useless columns – not required for Machine learning"
      ]
    },
    {
      "cell_type": "code",
      "metadata": {
        "id": "H7OWw8V2Jq2s",
        "colab_type": "code",
        "colab": {}
      },
      "source": [
        ""
      ],
      "execution_count": 0,
      "outputs": []
    },
    {
      "cell_type": "markdown",
      "metadata": {
        "id": "k-qwsiaXJq2x",
        "colab_type": "text"
      },
      "source": [
        "2.6.7\t       Check distribution of Label in terms of percentage 0/1"
      ]
    },
    {
      "cell_type": "code",
      "metadata": {
        "id": "cdu69NHYJq2y",
        "colab_type": "code",
        "colab": {},
        "outputId": "02af812d-1ab4-414d-c37e-9720904d95b5"
      },
      "source": [
        "distLabels = (df_data['Label'].value_counts()/ df_data['Label'].count())*100\n",
        "print(distLabels)"
      ],
      "execution_count": 0,
      "outputs": [
        {
          "output_type": "stream",
          "text": [
            "0    99.399087\n",
            "1     0.600913\n",
            "Name: Label, dtype: float64\n"
          ],
          "name": "stdout"
        }
      ]
    },
    {
      "cell_type": "markdown",
      "metadata": {
        "id": "QnxnuLNkJq21",
        "colab_type": "text"
      },
      "source": [
        "2.6.8\t       Write processed and clean data set  to a csv file"
      ]
    },
    {
      "cell_type": "code",
      "metadata": {
        "id": "jYJGW5sWJq22",
        "colab_type": "code",
        "colab": {}
      },
      "source": [
        "df_final.to_csv(OutFolder+\"\\\\CleanData.csv\",index=False)    "
      ],
      "execution_count": 0,
      "outputs": []
    }
  ]
}