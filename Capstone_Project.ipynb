{
  "nbformat": 4,
  "nbformat_minor": 0,
  "metadata": {
    "kernelspec": {
      "name": "python3",
      "display_name": "Python 3"
    },
    "language_info": {
      "codemirror_mode": {
        "name": "ipython",
        "version": 3
      },
      "file_extension": ".py",
      "mimetype": "text/x-python",
      "name": "python",
      "nbconvert_exporter": "python",
      "pygments_lexer": "ipython3",
      "version": "3.7.1"
    },
    "colab": {
      "name": "Capstone-Project.ipynb",
      "provenance": [],
      "collapsed_sections": []
    },
    "accelerator": "GPU"
  },
  "cells": [
    {
      "cell_type": "markdown",
      "metadata": {
        "id": "Y0vHLV3OJq1a",
        "colab_type": "text"
      },
      "source": [
        "2.1\tProblem definition:\n",
        "\n",
        "Predict denials of denial claims from history data"
      ]
    },
    {
      "cell_type": "code",
      "metadata": {
        "id": "97V983d4KAvd",
        "colab_type": "code",
        "outputId": "e55203d6-e814-4fe3-83b7-9dfe749a15dd",
        "colab": {
          "base_uri": "https://localhost:8080/",
          "height": 34
        }
      },
      "source": [
        "from google.colab import drive\n",
        "drive.mount('/content/gdrive', force_remount=True)"
      ],
      "execution_count": 0,
      "outputs": [
        {
          "output_type": "stream",
          "text": [
            "Mounted at /content/gdrive\n"
          ],
          "name": "stdout"
        }
      ]
    },
    {
      "cell_type": "markdown",
      "metadata": {
        "id": "X_xBZVNdJq1c",
        "colab_type": "text"
      },
      "source": [
        "2.2\tHistory Data Set \n",
        "Data in excel contains three tabs\n",
        "\n",
        "\tTab-1 contains all attributes of the claims processed except Label   \n",
        "\tTab-2 contains only Target variable (Label) of each row of Tab-1 data with one common attribute  \n",
        "\tTab-3 contains all attribute list "
      ]
    },
    {
      "cell_type": "markdown",
      "metadata": {
        "id": "aZijYswqJq1d",
        "colab_type": "text"
      },
      "source": [
        "2.3 Data Pre-processing \n",
        "\n",
        "1.Read Tab1- data set and Tab-2 Data set and create two panda data frames\n",
        "\n",
        "2.Merge two data frames into one to place Label properly against each row.\n",
        "\n",
        "3.Attributes of Tab-1 and Tab-2 are shown below"
      ]
    },
    {
      "cell_type": "code",
      "metadata": {
        "id": "PdjBrm-KJq1f",
        "colab_type": "code",
        "outputId": "701534dc-b9cd-472c-dfd0-1bb3b93a1d15",
        "colab": {
          "base_uri": "https://localhost:8080/",
          "height": 101
        }
      },
      "source": [
        "# Library Imports\n",
        "\n",
        "import sys\n",
        "print('python:{}'.format(sys.version))\n",
        "import scipy as sp\n",
        "print('scipy:{}'.format(sp.__version__))\n",
        "import numpy as np\n",
        "print('numpy:{}'.format(np.__version__))\n",
        "import pandas as pd\n",
        "print('pandas:{}'.format(pd.__version__))"
      ],
      "execution_count": 0,
      "outputs": [
        {
          "output_type": "stream",
          "text": [
            "python:3.6.9 (default, Nov  7 2019, 10:44:02) \n",
            "[GCC 8.3.0]\n",
            "scipy:1.4.1\n",
            "numpy:1.18.2\n",
            "pandas:1.0.3\n"
          ],
          "name": "stdout"
        }
      ]
    },
    {
      "cell_type": "code",
      "metadata": {
        "id": "e9ITZz3HJq1p",
        "colab_type": "code",
        "outputId": "5ec01749-8acd-4410-a624-12b02289c6f5",
        "colab": {
          "base_uri": "https://localhost:8080/",
          "height": 907
        }
      },
      "source": [
        "# Data Reads - All required data is in data folders\n",
        "InputFolder = '/content/gdrive/My Drive/capstone-project/input_data'\n",
        "OutFolder = '/content/gdrive/My Drive/capstone-project/output_data'\n",
        "inFile = InputFolder + '/ZCUPClaimDNA-History-Data-v2.xlsx'\n",
        "df_history_dataset = pd.read_excel(inFile, \n",
        "                                   sheet_name='HistoryData',\n",
        "                                   header=0,\n",
        "                                   converters={'srlno':np.int64, \n",
        "                                               'Claim.Number':str,\n",
        "                                               'Claim.Line.Number':str,\n",
        "                                               'Member.ID':str,\n",
        "                                               'Provider.ID':str,\n",
        "                                               'Revenue.Code':str,\n",
        "                                               'Service.Code':str,\n",
        "                                               'Place.Of.Service.Code':str,\n",
        "                                               'Procedure.Code':str,\n",
        "                                               'Diagnosis.Code':str,\n",
        "                                               'Claim.Charge.Amount':np.float64,\n",
        "                                               'Denial.Reason.Code':str,\n",
        "                                               'In.Out.Of.Network':str,\n",
        "                                               'Subscriber.Payment.Amount':np.float64,\n",
        "                                               'Provider.Payment.Amount':np.float64,\n",
        "                                               'Claim.Type':str,\n",
        "                                               'Claim.Subscriber.Type':str,\n",
        "                                               'Claim.Current.Status':str,\n",
        "                                               'Network.ID':str,\n",
        "                                               'Agreement.ID':str\n",
        "                                              })\n",
        "df_labels_dataset = pd.read_excel(inFile, \n",
        "                                  sheet_name='Accept-Denial-Label', \n",
        "                                  header=0,\n",
        "                                  converters={'srlno':np.int64, \n",
        "                                              'Label':np.int64\n",
        "                                             })\n",
        "\n",
        "df_data = pd.merge(df_history_dataset, df_labels_dataset, on='Srlno')\n",
        "\n",
        "print(df_history_dataset.head())\n",
        "print(df_labels_dataset.head())\n",
        "\n",
        "print(df_history_dataset.describe())\n",
        "print(df_labels_dataset.describe())\n",
        "\n",
        "print(df_data.head())\n",
        "print(df_data.describe())"
      ],
      "execution_count": 0,
      "outputs": [
        {
          "output_type": "stream",
          "text": [
            "   Srlno Claim.Number  ...    Network.ID  Agreement.ID\n",
            "0      1     28849991  ...  P00000000002  FH001310QB01\n",
            "1      2     81404290  ...  P00000000007  FH002451QPD1\n",
            "2      3     81404290  ...  P00000000007  FH002451QPD1\n",
            "3      4     81404290  ...  P00000000007  FH002451QPD1\n",
            "4      5     81404290  ...  P00000000007  FH002451QPD1\n",
            "\n",
            "[5 rows x 20 columns]\n",
            "   Srlno  Label\n",
            "0      1      0\n",
            "1      2      0\n",
            "2      3      0\n",
            "3      4      0\n",
            "4      5      0\n",
            "               Srlno  ...  Provider.Payment.Amount\n",
            "count  472559.000000  ...            472559.000000\n",
            "mean   236280.000000  ...               299.664982\n",
            "std    136416.177266  ...              2651.754222\n",
            "min         1.000000  ...                 0.000000\n",
            "25%    118140.500000  ...                 0.000000\n",
            "50%    236280.000000  ...                 0.000000\n",
            "75%    354419.500000  ...                 0.000000\n",
            "max    472559.000000  ...            491735.224680\n",
            "\n",
            "[8 rows x 4 columns]\n",
            "               Srlno          Label\n",
            "count  472559.000000  472559.000000\n",
            "mean   236280.000000       0.004171\n",
            "std    136416.177266       0.064448\n",
            "min         1.000000       0.000000\n",
            "25%    118140.500000       0.000000\n",
            "50%    236280.000000       0.000000\n",
            "75%    354419.500000       0.000000\n",
            "max    472559.000000       1.000000\n",
            "   Srlno Claim.Number Claim.Line.Number  ...    Network.ID  Agreement.ID Label\n",
            "0      1     28849991                 1  ...  P00000000002  FH001310QB01     0\n",
            "1      2     81404290                 1  ...  P00000000007  FH002451QPD1     0\n",
            "2      3     81404290                 2  ...  P00000000007  FH002451QPD1     0\n",
            "3      4     81404290                 3  ...  P00000000007  FH002451QPD1     0\n",
            "4      5     81404290                 4  ...  P00000000007  FH002451QPD1     0\n",
            "\n",
            "[5 rows x 21 columns]\n",
            "               Srlno  ...          Label\n",
            "count  472559.000000  ...  472559.000000\n",
            "mean   236280.000000  ...       0.004171\n",
            "std    136416.177266  ...       0.064448\n",
            "min         1.000000  ...       0.000000\n",
            "25%    118140.500000  ...       0.000000\n",
            "50%    236280.000000  ...       0.000000\n",
            "75%    354419.500000  ...       0.000000\n",
            "max    472559.000000  ...       1.000000\n",
            "\n",
            "[8 rows x 5 columns]\n"
          ],
          "name": "stdout"
        }
      ]
    },
    {
      "cell_type": "markdown",
      "metadata": {
        "id": "2eBVuE5IJq1t",
        "colab_type": "text"
      },
      "source": [
        "2.4 Find Shape and data type "
      ]
    },
    {
      "cell_type": "code",
      "metadata": {
        "id": "l6fs2MpOJq1t",
        "colab_type": "code",
        "outputId": "461715f1-fbba-4274-cca0-d711450402cc",
        "colab": {
          "base_uri": "https://localhost:8080/",
          "height": 403
        }
      },
      "source": [
        "print(df_data.shape)\n",
        "dataTypeSeries = df_data.dtypes\n",
        "print(dataTypeSeries)"
      ],
      "execution_count": 0,
      "outputs": [
        {
          "output_type": "stream",
          "text": [
            "(472559, 21)\n",
            "Srlno                          int64\n",
            "Claim.Number                  object\n",
            "Claim.Line.Number             object\n",
            "Member.ID                     object\n",
            "Provider.ID                   object\n",
            "Revenue.Code                  object\n",
            "Service.Code                  object\n",
            "Place.Of.Service.Code         object\n",
            "Procedure.Code                object\n",
            "Diagnosis.Code                object\n",
            "Claim.Charge.Amount          float64\n",
            "Denial.Reason.Code            object\n",
            "In.Out.Of.Network             object\n",
            "Subscriber.Payment.Amount    float64\n",
            "Provider.Payment.Amount      float64\n",
            "Claim.Type                    object\n",
            "Claim.Subscriber.Type         object\n",
            "Claim.Current.Status          object\n",
            "Network.ID                    object\n",
            "Agreement.ID                  object\n",
            "Label                          int64\n",
            "dtype: object\n"
          ],
          "name": "stdout"
        }
      ]
    },
    {
      "cell_type": "markdown",
      "metadata": {
        "id": "gMdp8SlTJq1y",
        "colab_type": "text"
      },
      "source": [
        "2.5\tTarget Value (Label) setting and cleaning"
      ]
    },
    {
      "cell_type": "markdown",
      "metadata": {
        "id": "pMx_mX8FJq10",
        "colab_type": "text"
      },
      "source": [
        "2.5.1    We will consider following valid Denial.Reason.Code F13, J8G, JO5, JB8, JE1, JC9, JF1, JF9, JG1, JPA and JES\n",
        "The goal is to develop predictive model to predict claims that would be denied with the above Denial.Reason.Code only. Any row with non-valid Denial.Reason.Code will be considered as garbage that need to be deleted"
      ]
    },
    {
      "cell_type": "code",
      "metadata": {
        "id": "0lPrw792Jq11",
        "colab_type": "code",
        "outputId": "f3c7f24e-452a-4342-9fc5-a6e83b8feb14",
        "colab": {
          "base_uri": "https://localhost:8080/",
          "height": 454
        }
      },
      "source": [
        "print(df_data.groupby('Denial.Reason.Code')['Denial.Reason.Code'].count())\n",
        "\n",
        "validReasonCodes = ['F13', 'J8G', 'JO5', 'JB8', 'JE1', 'JC9', 'JF1', 'JF9', 'JG1', 'JPA', 'JES']\n",
        "df_data=df_data[(df_data['Denial.Reason.Code'].isin(validReasonCodes))]\n",
        "\n",
        "print(df_data.groupby('Denial.Reason.Code')['Denial.Reason.Code'].count())"
      ],
      "execution_count": 0,
      "outputs": [
        {
          "output_type": "stream",
          "text": [
            "Denial.Reason.Code\n",
            "F13    1068\n",
            "J8G     382\n",
            "JB8     128\n",
            "JC9      49\n",
            "JE1      33\n",
            "JES      50\n",
            "JF1       4\n",
            "JF9      98\n",
            "JG1      10\n",
            "JO5     105\n",
            "JPA      44\n",
            "Name: Denial.Reason.Code, dtype: int64\n",
            "Denial.Reason.Code\n",
            "F13    1068\n",
            "J8G     382\n",
            "JB8     128\n",
            "JC9      49\n",
            "JE1      33\n",
            "JES      50\n",
            "JF1       4\n",
            "JF9      98\n",
            "JG1      10\n",
            "JO5     105\n",
            "JPA      44\n",
            "Name: Denial.Reason.Code, dtype: int64\n"
          ],
          "name": "stdout"
        }
      ]
    },
    {
      "cell_type": "markdown",
      "metadata": {
        "id": "ku-Q4WPUJq16",
        "colab_type": "text"
      },
      "source": [
        "2.5.2   Check distribution of Label in terms of percentage 0/1"
      ]
    },
    {
      "cell_type": "code",
      "metadata": {
        "id": "-Swv3Q5MJq17",
        "colab_type": "code",
        "outputId": "b3e98234-fcc3-4b9c-aacf-864cef3fac31",
        "colab": {
          "base_uri": "https://localhost:8080/",
          "height": 67
        }
      },
      "source": [
        "distLabels = (df_data['Label'].value_counts()/ df_data['Label'].count())*100\n",
        "print('Distribution:\\n{}'.format(distLabels))"
      ],
      "execution_count": 0,
      "outputs": [
        {
          "output_type": "stream",
          "text": [
            "Distribution:\n",
            "1    100.0\n",
            "Name: Label, dtype: float64\n"
          ],
          "name": "stdout"
        }
      ]
    },
    {
      "cell_type": "markdown",
      "metadata": {
        "id": "ksoOIfaEJq1_",
        "colab_type": "text"
      },
      "source": [
        "2.5.3   Find number of  distinct valid Denial.Reason.Code"
      ]
    },
    {
      "cell_type": "code",
      "metadata": {
        "id": "VHiZliBhJq2B",
        "colab_type": "code",
        "outputId": "b12fda13-8aef-4c67-b6cb-9d7f9b4a2cc9",
        "colab": {
          "base_uri": "https://localhost:8080/",
          "height": 34
        }
      },
      "source": [
        "print(df_data['Denial.Reason.Code'].unique())"
      ],
      "execution_count": 0,
      "outputs": [
        {
          "output_type": "stream",
          "text": [
            "['JB8' 'J8G' 'F13' 'JF1' 'JE1' 'JES' 'JO5' 'JG1' 'JPA' 'JC9' 'JF9']\n"
          ],
          "name": "stdout"
        }
      ]
    },
    {
      "cell_type": "markdown",
      "metadata": {
        "id": "f_jIVQyYJq2H",
        "colab_type": "text"
      },
      "source": [
        "2.6\tHandling Predictor Variables\n",
        "Predictors variables ( All input variables except Target variable)  that are used to predict the 'Target Variable'.\n"
      ]
    },
    {
      "cell_type": "markdown",
      "metadata": {
        "id": "9RQOjw5SJq2I",
        "colab_type": "text"
      },
      "source": [
        "2.6.1  Identify\n",
        "\n",
        "•\tcontinuous numeric value\n",
        "•\ttag/code value\n",
        "•\tOther columns ID type."
      ]
    },
    {
      "cell_type": "code",
      "metadata": {
        "id": "pduWXyyzJq2J",
        "colab_type": "code",
        "colab": {}
      },
      "source": [
        ""
      ],
      "execution_count": 0,
      "outputs": []
    },
    {
      "cell_type": "markdown",
      "metadata": {
        "id": "sxkxj-_pJq2O",
        "colab_type": "text"
      },
      "source": [
        "2.6.2  Find"
      ]
    },
    {
      "cell_type": "code",
      "metadata": {
        "id": "G-GWjb8gJq2P",
        "colab_type": "code",
        "outputId": "b7ddf012-9309-42a6-a6ea-06a932ff2e9e",
        "colab": {
          "base_uri": "https://localhost:8080/",
          "height": 773
        }
      },
      "source": [
        "print(df_data['Revenue.Code'].unique())\n",
        "print(df_data['Service.Code'].unique())\n",
        "print(df_data['Diagnosis.Code'].unique())"
      ],
      "execution_count": 0,
      "outputs": [
        {
          "output_type": "stream",
          "text": [
            "['124' '250' '300' '301' '302' '434' '636' '730' '914' '305' '450' '306'\n",
            " '307' '121' '320' '126' '128' '261' '260' '920' '490' '750' '278' '272'\n",
            " '361' '370' '710' '331' '403' '270' '360' '310' '420' '771' '276' '610'\n",
            " '821' '510' '312' ' ' '134' '259' '206' '174' '324' '402' '483' '111'\n",
            " '200' '271' '275' '309' '311' '352' '390' '440' '410' '424' '444' '460'\n",
            " '740' '480' '481' '761' '921' '940' '122' '258' '351' '350' '430' '173'\n",
            " '210' '172' '634' '810' '811' '942' '112' '171' '720' '341' '343' '482'\n",
            " '731' '762' '117' '682' '249' '127']\n",
            "['RM8W' 'AL7I' 'HV7I' 'ER7I' 'RM8I' 'SB7W' 'RT8I' 'RR8I' 'DU7O' 'IH7O'\n",
            " 'SU7A' 'OP7O' 'LA7O' 'ER7O' 'MD7O' 'TE7O' 'RA7O' 'RL8Y' 'TH7O' 'IMY'\n",
            " 'MR7Y' 'MR7O' 'DI7O' 'CL7O' 'GB7A' 'UNI' 'RM9I' 'IN7I' 'RB8I' 'NI7I'\n",
            " 'RB7I' 'IC7I' 'CT7I' 'OE7I' 'RV8W' 'CC7I' 'RY8W' 'TO7W' 'RI7Y' 'RY7I'\n",
            " 'RY8I' 'NS7I' 'RB7W' 'CT7O' 'RK8Y' 'CT8Y' 'CT7Y' 'OVV']\n",
            "['2989' '29640' '29680' '2929' '29622' '29664' '29570' '30411' '29690'\n",
            " '29530' '29660' '29644' '29650' '29189' '29663' '29630' '29181' '30391'\n",
            " '29633' '29632' '486' '99741' '78701' '5533' '78659' '2189' 'V6284'\n",
            " '41401' '78057' '220' '42731' '72402' '1744' '7503' '53240' '61804'\n",
            " '82525' '78079' '24200' '1742' '64403' '2271' '78630' '6184' '193'\n",
            " '78900' '2181' '5409' '6181' '78650' '2875' '81209' '57410' '2410' 'V510'\n",
            " '217' '7804' '4359' '3682' '20240' '78906' '1550' '5609' '37943' '61801'\n",
            " '479' '5559' '3688' '5921' '8246' '27651' '7999' 'V1255' '1745' '6227'\n",
            " '7222' 'V202' 'V571' '80841' '1743' '81342' '6162' '38611' '3669' '1748'\n",
            " '57470' '7295' '55092' '6262' '6268' '6110' '2452' '72210' '55090' '6826'\n",
            " '6183' '52460' '6185' '226' '57450' '60001' '78499' '6170' '5193' '6146'\n",
            " '5362' '99812' '7840' '78903' '57400' '34290' '2273' '2182' '2891' '5856'\n",
            " 'V7611' '61172' '2720' '72992' '1749' '52489' '27541' '34590' 'V5811'\n",
            " '6253' '72888' '6271' '73671' '179' '8024' '52403' '6121' 'V552' '2102'\n",
            " '5119' '80225' '75249' '6272' '5738' '4940' '2809' '57420' '55321' '7054'\n",
            " '1541' '5789' '5722' '6823' '6108' '64303' '2776' '99673' '5641' '33819'\n",
            " '57511' '2180' '78907' '78791' '5551' '78652' '2851' '5589' '5400'\n",
            " '57480' '45340' '2572' 'V5331' '6827' '78720' '53190' '78909' '6202'\n",
            " '99883' '6210' '37730' '2141' 'V08' '56211' '1809' '25201' '79389'\n",
            " 'V7612' '68100' 'V5041' '5693' '6111' 'V7651' '4168' '1746' '7842' '8250'\n",
            " '9220' '4659' '61179' '72990' '29689' '99832' '42841' '51881' '99674'\n",
            " '845' '566' '72252' '43491' '3849' '389' '49322' '2910' '5941' '1985'\n",
            " '5712' '90' 'V3101' '53551' '71100' 'V5831' '67524' '2330' 'V045' '5070'\n",
            " '650' '7802' '430' '6824' '42741' '5770' '431' 'V3000' '9962' '7455'\n",
            " '65231' '64981' '42823' '75612' '73730' '99681' '65811' 'V5789' '62212'\n",
            " '4280' '9351' '73819' '65421' '59970' '56210' '78799' '64893' '9352'\n",
            " '2859' '30400' 'V6759' '1741' '49392' '2912' '34691' 'V700' '9950'\n",
            " '80703' '69589' '7226' '99676' '8600' '6868' '80126' '81305' '99563'\n",
            " '78901' '5711' '8248' '78722' '64844' '30501' '2920' '7384' '56032'\n",
            " '1960' '85011' '9726' '8832' '25002' '4377' '96501' '2777' '66111'\n",
            " '30300' '56400' '4321' '53550' '79095' '5303' '4589' '5289' '8500'\n",
            " '78009' '6100' '61189' '30500']\n"
          ],
          "name": "stdout"
        }
      ]
    },
    {
      "cell_type": "markdown",
      "metadata": {
        "id": "32hHH2a9Jq2W",
        "colab_type": "text"
      },
      "source": [
        "2.6.3  Handling Categorical Values"
      ]
    },
    {
      "cell_type": "code",
      "metadata": {
        "id": "SJqWaS4mJq2X",
        "colab_type": "code",
        "outputId": "5fdade8c-4e23-465f-fd57-ec453e970126",
        "colab": {
          "base_uri": "https://localhost:8080/",
          "height": 84
        }
      },
      "source": [
        "#2.6.3.1 Clubbing of Category Value (1 ,2,3 – High , Medium , Low possibility group respectively)\n",
        "\n",
        "# Revenue Code\n",
        "High_Revenue_Code = [\"810\", \"811\", \"124\", \"261\", \"260\", \"331\", \"914\", \"174\", \"634\", \"173\", \"682\", \"126\", \"128\", \"172\", \"127\", \"200\", \"821\", \"134\", \"302\", \"740\", \"249\", \"270\", \"771\", \"361\", \"310\", \"434\"]\n",
        "Medium_Revenue_Code= [\"210\", \"275\", \"122\", \"610\", \"206\", \"258\", \"444\", \"278\", \"117\", \"259\", \"121\", \"112\", \"276\", \"731\", \"750\", \"460\", \"360\", \"271\", \"730\", \"307\", \"424\", \"370\", \"250\", \"410\", \"940\", \"305\", \"350\", \"921\", \"480\", \"111\", \"351\", \"920\", \"636\", \"309\", \"300\", \"390\", \"301\", \"450\", \"440\", \"306\", \"311\", \"324\", \"710\", \"341\", \"272\", \"343\", \"942\", \"171\", \"482\", \"420\", \"490\", \"483\", \"312\", \"481\", \"352\", \"510\", \"402\", \"320\", \"720\", \"762\", \"761\", \"430\", \"403\"]\n",
        "\n",
        "df_data.loc[df_data['Revenue.Code'].isin(High_Revenue_Code), 'Revenue.Code.Group'] = 1\n",
        "df_data.loc[df_data['Revenue.Code'].isin(Medium_Revenue_Code), 'Revenue.Code.Group' ] = 2\n",
        "df_data.loc[~df_data['Revenue.Code'].isin(High_Revenue_Code + Medium_Revenue_Code), 'Revenue.Code.Group'] = 3\n",
        "print(df_data['Revenue.Code.Group'].value_counts())"
      ],
      "execution_count": 0,
      "outputs": [
        {
          "output_type": "stream",
          "text": [
            "2.0    406424\n",
            "3.0     42597\n",
            "1.0     23538\n",
            "Name: Revenue.Code.Group, dtype: int64\n"
          ],
          "name": "stdout"
        }
      ]
    },
    {
      "cell_type": "code",
      "metadata": {
        "id": "eTyasTwtlTC8",
        "colab_type": "code",
        "outputId": "18608ec2-987c-421e-f3be-ceafeeebd4cc",
        "colab": {
          "base_uri": "https://localhost:8080/",
          "height": 215
        }
      },
      "source": [
        "df_data.head(5)"
      ],
      "execution_count": 0,
      "outputs": [
        {
          "output_type": "execute_result",
          "data": {
            "text/html": [
              "<div>\n",
              "<style scoped>\n",
              "    .dataframe tbody tr th:only-of-type {\n",
              "        vertical-align: middle;\n",
              "    }\n",
              "\n",
              "    .dataframe tbody tr th {\n",
              "        vertical-align: top;\n",
              "    }\n",
              "\n",
              "    .dataframe thead th {\n",
              "        text-align: right;\n",
              "    }\n",
              "</style>\n",
              "<table border=\"1\" class=\"dataframe\">\n",
              "  <thead>\n",
              "    <tr style=\"text-align: right;\">\n",
              "      <th></th>\n",
              "      <th>Claim.Number</th>\n",
              "      <th>Claim.Line.Number</th>\n",
              "      <th>Member.ID</th>\n",
              "      <th>Provider.ID</th>\n",
              "      <th>Place.Of.Service.Code</th>\n",
              "      <th>Procedure.Code</th>\n",
              "      <th>Claim.Charge.Amount</th>\n",
              "      <th>Denial.Reason.Code</th>\n",
              "      <th>In.Out.Of.Network</th>\n",
              "      <th>Subscriber.Payment.Amount</th>\n",
              "      <th>Provider.Payment.Amount</th>\n",
              "      <th>Claim.Type</th>\n",
              "      <th>Claim.Subscriber.Type</th>\n",
              "      <th>Claim.Current.Status</th>\n",
              "      <th>Network.ID</th>\n",
              "      <th>Agreement.ID</th>\n",
              "      <th>Revenue.Code.Group</th>\n",
              "      <th>Service.Code.Group</th>\n",
              "      <th>Diagnosis.Code.Group</th>\n",
              "      <th>Label</th>\n",
              "    </tr>\n",
              "  </thead>\n",
              "  <tbody>\n",
              "    <tr>\n",
              "      <th>0</th>\n",
              "      <td>28849991</td>\n",
              "      <td>1</td>\n",
              "      <td>9583423</td>\n",
              "      <td>FA0001411002</td>\n",
              "      <td></td>\n",
              "      <td></td>\n",
              "      <td>19356.960000</td>\n",
              "      <td></td>\n",
              "      <td>I</td>\n",
              "      <td>0.0</td>\n",
              "      <td>15036.210000</td>\n",
              "      <td>M</td>\n",
              "      <td>H</td>\n",
              "      <td>2</td>\n",
              "      <td>P00000000002</td>\n",
              "      <td>FH001310QB01</td>\n",
              "      <td>1.0</td>\n",
              "      <td>1.0</td>\n",
              "      <td>2.0</td>\n",
              "      <td>0</td>\n",
              "    </tr>\n",
              "    <tr>\n",
              "      <th>1</th>\n",
              "      <td>81404290</td>\n",
              "      <td>1</td>\n",
              "      <td>25210465</td>\n",
              "      <td>FA0001411002</td>\n",
              "      <td></td>\n",
              "      <td>A0205</td>\n",
              "      <td>0.000000</td>\n",
              "      <td></td>\n",
              "      <td>I</td>\n",
              "      <td>0.0</td>\n",
              "      <td>0.000000</td>\n",
              "      <td>M</td>\n",
              "      <td>H</td>\n",
              "      <td>91</td>\n",
              "      <td>P00000000007</td>\n",
              "      <td>FH002451QPD1</td>\n",
              "      <td>3.0</td>\n",
              "      <td>2.0</td>\n",
              "      <td>2.0</td>\n",
              "      <td>0</td>\n",
              "    </tr>\n",
              "    <tr>\n",
              "      <th>2</th>\n",
              "      <td>81404290</td>\n",
              "      <td>2</td>\n",
              "      <td>25210465</td>\n",
              "      <td>FA0001411002</td>\n",
              "      <td></td>\n",
              "      <td></td>\n",
              "      <td>27099.744000</td>\n",
              "      <td>PAI</td>\n",
              "      <td>I</td>\n",
              "      <td>0.0</td>\n",
              "      <td>27525.263805</td>\n",
              "      <td>M</td>\n",
              "      <td>H</td>\n",
              "      <td>91</td>\n",
              "      <td>P00000000007</td>\n",
              "      <td>FH002451QPD1</td>\n",
              "      <td>1.0</td>\n",
              "      <td>1.0</td>\n",
              "      <td>2.0</td>\n",
              "      <td>0</td>\n",
              "    </tr>\n",
              "    <tr>\n",
              "      <th>3</th>\n",
              "      <td>81404290</td>\n",
              "      <td>3</td>\n",
              "      <td>25210465</td>\n",
              "      <td>FA0001411002</td>\n",
              "      <td></td>\n",
              "      <td></td>\n",
              "      <td>2262.097800</td>\n",
              "      <td></td>\n",
              "      <td>I</td>\n",
              "      <td>0.0</td>\n",
              "      <td>0.000000</td>\n",
              "      <td>M</td>\n",
              "      <td>H</td>\n",
              "      <td>91</td>\n",
              "      <td>P00000000007</td>\n",
              "      <td>FH002451QPD1</td>\n",
              "      <td>2.0</td>\n",
              "      <td>2.0</td>\n",
              "      <td>2.0</td>\n",
              "      <td>0</td>\n",
              "    </tr>\n",
              "    <tr>\n",
              "      <th>4</th>\n",
              "      <td>81404290</td>\n",
              "      <td>4</td>\n",
              "      <td>25210465</td>\n",
              "      <td>FA0001411002</td>\n",
              "      <td></td>\n",
              "      <td></td>\n",
              "      <td>284.712735</td>\n",
              "      <td></td>\n",
              "      <td>I</td>\n",
              "      <td>0.0</td>\n",
              "      <td>0.000000</td>\n",
              "      <td>M</td>\n",
              "      <td>H</td>\n",
              "      <td>91</td>\n",
              "      <td>P00000000007</td>\n",
              "      <td>FH002451QPD1</td>\n",
              "      <td>2.0</td>\n",
              "      <td>2.0</td>\n",
              "      <td>2.0</td>\n",
              "      <td>0</td>\n",
              "    </tr>\n",
              "  </tbody>\n",
              "</table>\n",
              "</div>"
            ],
            "text/plain": [
              "  Claim.Number Claim.Line.Number  ... Diagnosis.Code.Group Label\n",
              "0     28849991                 1  ...                  2.0     0\n",
              "1     81404290                 1  ...                  2.0     0\n",
              "2     81404290                 2  ...                  2.0     0\n",
              "3     81404290                 3  ...                  2.0     0\n",
              "4     81404290                 4  ...                  2.0     0\n",
              "\n",
              "[5 rows x 20 columns]"
            ]
          },
          "metadata": {
            "tags": []
          },
          "execution_count": 53
        }
      ]
    },
    {
      "cell_type": "code",
      "metadata": {
        "id": "rbIdIDLwgK0H",
        "colab_type": "code",
        "outputId": "f32ea9c0-9451-40e7-a604-225458967fde",
        "colab": {
          "base_uri": "https://localhost:8080/",
          "height": 84
        }
      },
      "source": [
        "# Service Code\n",
        "High_Service_Code = [\"UNI\", \"RL8Y\", \"RM8W\", \"DU7O\", \"IH7O\", \"RM8I\", \"RI7Y\", \"SB7W\", \"GB7A\", \"NI7I\", \"OVV\", \"RM9I\", \"RR8I\", \"IMY\", \"RT8I\", \"RY8W\", \"RY7I\", \"IC7I\", \"SU7A\", \"ER7I\"]\n",
        "Medium_Service_Code = [\"TO7W\", \"TE7O\", \"CC7I\", \"HV7I\", \"MR7O\", \"IN7I\", \"AL7I\", \"DI7O\", \"CT8Y\", \"RB7W\", \"RV8W\", \"CT7I\", \"RB8I\", \"RK8Y\", \"RB7I\", \"OE7I\", \"RY8I\", \"OP7O\", \"LA7O\", \"NS7I\", \"CL7O\", \"MR7Y\", \"ER7O\", \"CT7Y\", \"CT7O\", \"RA7O\", \"MD7O\", \"TH7O\"\n",
        "]\n",
        "df_data.loc[df_data['Service.Code'].isin(High_Service_Code), 'Service.Code.Group'] = 1\n",
        "df_data.loc[df_data['Service.Code'].isin(Medium_Service_Code), 'Service.Code.Group'] = 2\n",
        "df_data.loc[~df_data['Service.Code'].isin(High_Service_Code + Medium_Service_Code), 'Service.Code.Group'] = 3\n",
        "\n",
        "print(df_data['Service.Code.Group'].value_counts())"
      ],
      "execution_count": 0,
      "outputs": [
        {
          "output_type": "stream",
          "text": [
            "2.0    368987\n",
            "1.0     59900\n",
            "3.0     43672\n",
            "Name: Service.Code.Group, dtype: int64\n"
          ],
          "name": "stdout"
        }
      ]
    },
    {
      "cell_type": "code",
      "metadata": {
        "id": "kS1k3BQdgOZC",
        "colab_type": "code",
        "outputId": "35235b40-853c-4baf-ab70-e62cf2de19d6",
        "colab": {
          "base_uri": "https://localhost:8080/",
          "height": 84
        }
      },
      "source": [
        "# Diagnosis Code\n",
        "High_Diagnosis_Code = [\"2929\", \"29690\", \"V202\", \"29663\", \"29622\", \"9962\", \"67524\", \"5193\", \"V045\", \"29530\", \"7999\", \"430\", \"29664\", \"5711\", \"79095\", \"30411\", \"29189\", \"6162\", \"29570\", \"29630\", \"29644\", \"5289\", \"20240\", \"99741\", \"37943\", \"9352\", \"V08\", \"V1255\", \"V5041\", \"80225\", \"6108\", \"57480\", \"5070\", \"V6284\", \"52460\", \"8024\", \"99681\", \"V3101\"]\n",
        "Medium_Diagnosis_Code = [\"75249\", \"71100\", \"29660\", \"78722\", \"2273\", \"6868\", \"64844\", \"73671\", \"37730\", \"61804\", \"6146\", \"V5831\", \"2989\", \"7503\", \"72992\", \"29181\", \"2452\", \"80841\", \"8250\", \"66111\", \"9950\", \"29640\", \"9220\", \"99563\", \"7222\", \"29650\", \"65811\", \"29632\", \"52403\", \"99676\", \"27541\", \"4168\", \"2102\", \"2182\", \"0090\", \"34691\", \"5738\", \"68100\", \"2776\", \"1809\", \"5362\", \"29633\", \"29680\", \"61801\", \"34290\", \"72990\", \"64981\", \"2912\", \"6170\", \"1746\", \"6183\", \"78499\", \"52489\", \"53551\", \"42823\", \"30501\", \"3682\", \"V3000\", \"7226\", \"64303\", \"24200\", \"8832\", \"57470\", \"9726\", \"29689\", \"5409\", \"8248\", \"73730\", \"2181\", \"57450\", \"85011\", \"6121\", \"64893\", \"6253\", \"99883\", \"96501\", \"193\", \"53190\", \"6268\", \"42841\", \"226\", \"57400\", \"4280\", \"1960\", \"69589\", \"2777\", \"2180\", \"1743\", \"1742\", \"179\", \"6110\", \"6272\", \"60001\", \"53240\", \"V552\", \"6827\", \"5559\", \"6185\", \"8600\", \"81305\", \"07054\", \"0479\", \"45340\", \"6824\", \"5551\", \"38611\", \"5941\", \"2271\", \"72888\", \"80703\", \"6227\", \"6823\", \"6184\", \"4377\", \"62212\", \"72210\", \"2891\", \"5533\", \"5722\", \"8246\", \"V510\", \"6111\", \"2572\", \"2720\", \"5789\", \"55321\", \"3688\", \"2189\", \"2410\", \"1541\", \"5856\", \"65231\", \"6262\", \"5609\", \"5641\", \"7455\", \"1550\", \"2875\", \"220\", \"78720\", \"30300\", \"81209\", \"566\", \"99812\", \"56032\", \"4321\", \"1745\", \"78630\", \"5119\", \"5400\", \"34590\", \"57511\", \"30400\", \"4940\", \"5770\", \"25201\", \"75612\", \"78057\", \"6181\", \"61179\", \"1749\", \"27651\", \"73819\", \"78799\", \"00845\", \"56400\", \"99832\", \"5712\", \"4589\", \"42741\", \"78701\", \"4659\", \"57420\", \"30500\", \"7804\", \"30391\", \"5693\", \"1744\", \"6100\", \"41401\", \"55092\", \"5589\", \"61172\", \"99674\", \"1741\", \"61189\", \"49392\", \"82525\", \"9351\", \"V5331\", \"2910\", \"78901\", \"5303\", \"80126\", \"6271\", \"2141\", \"7842\", \"59970\", \"25002\", \"78791\", \"1748\", \"8500\", \"78900\", \"217\", \"1985\", \"79389\", \"42731\", \"78906\", \"99673\", \"7384\", \"78009\", \"650\", \"6210\", \"51881\", \"81342\", \"78659\", \"72402\", \"56210\", \"2851\", \"49322\", \"486\", \"55090\", \"2920\", \"56211\", \"V700\", \"57410\", \"4359\", \"5921\", \"03849\", \"78903\", \"53550\", \"7840\", \"2330\", \"64403\", \"33819\", \"6826\", \"78907\", \"V5811\", \"6202\", \"78652\", \"431\", \"V6759\", \"78079\", \"72252\", \"7802\", \"2809\", \"V7651\", \"7295\", \"78650\", \"65421\", \"0389\", \"43491\", \"78909\", \"2859\", \"V7611\", \"V7612\", \"3669\", \"V5789\", \"V571\"]\n",
        "\n",
        "df_data.loc[df_data['Diagnosis.Code'].isin(High_Diagnosis_Code), 'Diagnosis.Code.Group'] = 1\n",
        "df_data.loc[df_data['Diagnosis.Code'].isin(Medium_Diagnosis_Code), 'Diagnosis.Code.Group'] = 2,\n",
        "df_data.loc[~df_data['Diagnosis.Code'].isin(High_Diagnosis_Code + Medium_Diagnosis_Code), 'Diagnosis.Code.Group'] = 3\n",
        "\n",
        "print(df_data['Diagnosis.Code.Group'].value_counts())"
      ],
      "execution_count": 0,
      "outputs": [
        {
          "output_type": "stream",
          "text": [
            "2.0    236381\n",
            "3.0    232802\n",
            "1.0      3376\n",
            "Name: Diagnosis.Code.Group, dtype: int64\n"
          ],
          "name": "stdout"
        }
      ]
    },
    {
      "cell_type": "code",
      "metadata": {
        "id": "xf7VDwgHgzMN",
        "colab_type": "code",
        "outputId": "ad81d779-a107-457e-9466-82903ba8d7dc",
        "colab": {
          "base_uri": "https://localhost:8080/",
          "height": 67
        }
      },
      "source": [
        "print(df_data['Revenue.Code.Group'].unique())\n",
        "print(df_data['Service.Code.Group'].unique())\n",
        "print(df_data['Diagnosis.Code.Group'].unique())"
      ],
      "execution_count": 0,
      "outputs": [
        {
          "output_type": "stream",
          "text": [
            "[1. 3. 2.]\n",
            "[1. 2. 3.]\n",
            "[2. 1. 3.]\n"
          ],
          "name": "stdout"
        }
      ]
    },
    {
      "cell_type": "markdown",
      "metadata": {
        "id": "4YUTgtNKJq2d",
        "colab_type": "text"
      },
      "source": [
        "2.6.4          Find column wise missing value in percentage  "
      ]
    },
    {
      "cell_type": "code",
      "metadata": {
        "id": "tx41NFyNJq2e",
        "colab_type": "code",
        "outputId": "7f45650a-75d4-42ab-fbe4-178cd6a9b95a",
        "colab": {
          "base_uri": "https://localhost:8080/",
          "height": 437
        }
      },
      "source": [
        "percent_missing = df_data.isnull().sum() *100 / len(df_data)\n",
        "print(percent_missing)"
      ],
      "execution_count": 0,
      "outputs": [
        {
          "output_type": "stream",
          "text": [
            "Srlno                         0.000000\n",
            "Claim.Number                 36.825666\n",
            "Claim.Line.Number             0.000000\n",
            "Member.ID                     0.000000\n",
            "Provider.ID                   0.000000\n",
            "Revenue.Code                  0.000000\n",
            "Service.Code                  0.000000\n",
            "Place.Of.Service.Code         0.000000\n",
            "Procedure.Code                0.000000\n",
            "Diagnosis.Code                0.000000\n",
            "Claim.Charge.Amount           0.000000\n",
            "Denial.Reason.Code            0.000000\n",
            "In.Out.Of.Network             0.000000\n",
            "Subscriber.Payment.Amount     0.000000\n",
            "Provider.Payment.Amount       0.000000\n",
            "Claim.Type                    0.000000\n",
            "Claim.Subscriber.Type         0.000000\n",
            "Claim.Current.Status          0.000000\n",
            "Network.ID                    0.000000\n",
            "Agreement.ID                  0.000000\n",
            "Label                         0.000000\n",
            "Revenue.Code.Group            0.000000\n",
            "Service.Code.Group            0.000000\n",
            "Diagnosis.Code.Group          0.000000\n",
            "dtype: float64\n"
          ],
          "name": "stdout"
        }
      ]
    },
    {
      "cell_type": "markdown",
      "metadata": {
        "id": "OCTwNKOeJq2l",
        "colab_type": "text"
      },
      "source": [
        "2.6.5\t       Find Duplicate rows and drop those"
      ]
    },
    {
      "cell_type": "code",
      "metadata": {
        "id": "ybKNotDDJq2m",
        "colab_type": "code",
        "colab": {}
      },
      "source": [
        "df_data=df_data.drop_duplicates(subset=None, keep = 'first', inplace=False)"
      ],
      "execution_count": 0,
      "outputs": []
    },
    {
      "cell_type": "markdown",
      "metadata": {
        "id": "IZ58zvTPJq2r",
        "colab_type": "text"
      },
      "source": [
        "2.6.6\t       Drop all useless columns – not required for Machine learning"
      ]
    },
    {
      "cell_type": "code",
      "metadata": {
        "id": "H7OWw8V2Jq2s",
        "colab_type": "code",
        "colab": {}
      },
      "source": [
        "Useless_columns = ['Srlno', 'Revenue.Code', 'Service.Code', 'Diagnosis.Code']\n",
        "df_data.drop(Useless_columns, axis = 1, inplace=True) "
      ],
      "execution_count": 0,
      "outputs": []
    },
    {
      "cell_type": "code",
      "metadata": {
        "id": "gS3n80HPunk3",
        "colab_type": "code",
        "colab": {}
      },
      "source": [
        "# rearrange columns - so label will be in the last column\n",
        "df_data = df_data[['Claim.Number', 'Claim.Line.Number', 'Member.ID', 'Provider.ID',\n",
        "       'Place.Of.Service.Code', 'Procedure.Code', 'Claim.Charge.Amount',\n",
        "       'Denial.Reason.Code', 'In.Out.Of.Network', 'Subscriber.Payment.Amount',\n",
        "       'Provider.Payment.Amount', 'Claim.Type', 'Claim.Subscriber.Type',\n",
        "       'Claim.Current.Status', 'Network.ID', 'Agreement.ID', \n",
        "       'Revenue.Code.Group', 'Service.Code.Group', 'Diagnosis.Code.Group', 'Label',]]\n"
      ],
      "execution_count": 0,
      "outputs": []
    },
    {
      "cell_type": "markdown",
      "metadata": {
        "id": "k-qwsiaXJq2x",
        "colab_type": "text"
      },
      "source": [
        "2.6.7\t       Check distribution of Label in terms of percentage 0/1"
      ]
    },
    {
      "cell_type": "code",
      "metadata": {
        "id": "cdu69NHYJq2y",
        "colab_type": "code",
        "outputId": "93018125-46be-4cdb-ca4b-5d70cae7c7c4",
        "colab": {
          "base_uri": "https://localhost:8080/",
          "height": 67
        }
      },
      "source": [
        "distLabels = (df_data['Label'].value_counts()/ df_data['Label'].count())*100\n",
        "print(distLabels)"
      ],
      "execution_count": 0,
      "outputs": [
        {
          "output_type": "stream",
          "text": [
            "0    99.582909\n",
            "1     0.417091\n",
            "Name: Label, dtype: float64\n"
          ],
          "name": "stdout"
        }
      ]
    },
    {
      "cell_type": "markdown",
      "metadata": {
        "id": "QnxnuLNkJq21",
        "colab_type": "text"
      },
      "source": [
        "2.6.8\t       Write processed and clean data set  to a csv file"
      ]
    },
    {
      "cell_type": "code",
      "metadata": {
        "id": "jYJGW5sWJq22",
        "colab_type": "code",
        "colab": {}
      },
      "source": [
        "df_data.to_csv(OutFolder+\"/CleanData.csv\",index=False)    "
      ],
      "execution_count": 0,
      "outputs": []
    }
  ]
}