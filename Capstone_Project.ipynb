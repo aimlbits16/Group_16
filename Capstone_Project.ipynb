{
 "nbformat": 4,
 "nbformat_minor": 0,
 "metadata": {
  "kernelspec": {
   "name": "python3",
   "display_name": "Python 3"
  },
  "language_info": {
   "codemirror_mode": {
    "name": "ipython",
    "version": 3
   },
   "file_extension": ".py",
   "mimetype": "text/x-python",
   "name": "python",
   "nbconvert_exporter": "python",
   "pygments_lexer": "ipython3",
   "version": "3.7.1"
  },
  "colab": {
   "name": "Capstone-Project.ipynb",
   "provenance": [],
   "collapsed_sections": [],
   "include_colab_link": true
  }
 },
 "cells": [
  {
   "cell_type": "markdown",
   "metadata": {
    "id": "view-in-github",
    "colab_type": "text"
   },
   "source": [
    "<a href=\"https://colab.research.google.com/github/aimlbits16/Project/blob/master/Capstone_Project.ipynb\" target=\"_parent\"><img src=\"https://colab.research.google.com/assets/colab-badge.svg\" alt=\"Open In Colab\"/></a>"
   ]
  },
  {
   "cell_type": "markdown",
   "metadata": {
    "id": "Y0vHLV3OJq1a",
    "colab_type": "text"
   },
   "source": [
    "2.1\tProblem definition:\n",
    "\n",
    "Predict denials of denial claims from history data"
   ]
  },
  {
   "cell_type": "code",
   "metadata": {
    "id": "97V983d4KAvd",
    "colab_type": "code",
    "outputId": "774bf6dd-f152-44dc-883c-bc91a14390eb",
    "colab": {
     "base_uri": "https://localhost:8080/",
     "height": 118
    }
   },
   "source": [
    "from google.colab import drive\n",
    "drive.mount('/content/gdrive', force_remount=True)"
   ],
   "execution_count": 1,
   "outputs": [
    {
     "output_type": "stream",
     "text": [
      "Go to this URL in a browser: https://accounts.google.com/o/oauth2/auth?client_id=947318989803-6bn6qk8qdgf4n4g3pfee6491hc0brc4i.apps.googleusercontent.com&redirect_uri=urn%3aietf%3awg%3aoauth%3a2.0%3aoob&response_type=code&scope=email%20https%3a%2f%2fwww.googleapis.com%2fauth%2fdocs.test%20https%3a%2f%2fwww.googleapis.com%2fauth%2fdrive%20https%3a%2f%2fwww.googleapis.com%2fauth%2fdrive.photos.readonly%20https%3a%2f%2fwww.googleapis.com%2fauth%2fpeopleapi.readonly\n",
      "\n",
      "Enter your authorization code:\n",
      "··········\n",
      "Mounted at /content/gdrive\n"
     ],
     "name": "stdout"
    }
   ]
  },
  {
   "cell_type": "markdown",
   "metadata": {
    "id": "X_xBZVNdJq1c",
    "colab_type": "text"
   },
   "source": [
    "2.2\tHistory Data Set \n",
    "Data in excel contains three tabs\n",
    "\n",
    "\tTab-1 contains all attributes of the claims processed except Label   \n",
    "\tTab-2 contains only Target variable (Label) of each row of Tab-1 data with one common attribute  \n",
    "\tTab-3 contains all attribute list "
   ]
  },
  {
   "cell_type": "markdown",
   "metadata": {
    "id": "aZijYswqJq1d",
    "colab_type": "text"
   },
   "source": [
    "2.3 Data Pre-processing \n",
    "\n",
    "1.Read Tab1- data set and Tab-2 Data set and create two panda data frames\n",
    "\n",
    "2.Merge two data frames into one to place Label properly against each row.\n",
    "\n",
    "3.Attributes of Tab-1 and Tab-2 are shown below"
   ]
  },
  {
   "cell_type": "code",
   "metadata": {
    "id": "PdjBrm-KJq1f",
    "colab_type": "code",
    "outputId": "6935962b-02ad-44b6-9721-07c325d7036f",
    "colab": {
     "base_uri": "https://localhost:8080/",
     "height": 98
    }
   },
   "source": [
    "# Library Imports\n",
    "\n",
    "import sys\n",
    "print('python:{}'.format(sys.version))\n",
    "import scipy as sp\n",
    "print('scipy:{}'.format(sp.__version__))\n",
    "import numpy as np\n",
    "print('numpy:{}'.format(np.__version__))\n",
    "import pandas as pd\n",
    "print('pandas:{}'.format(pd.__version__))"
   ],
   "execution_count": 2,
   "outputs": [
    {
     "output_type": "stream",
     "text": [
      "python:3.6.9 (default, Nov  7 2019, 10:44:02) \n",
      "[GCC 8.3.0]\n",
      "scipy:1.4.1\n",
      "numpy:1.18.2\n",
      "pandas:1.0.3\n"
     ],
     "name": "stdout"
    }
   ]
  },
  {
   "cell_type": "code",
   "metadata": {
    "id": "j0h_L8gbSC6D",
    "colab_type": "code",
    "colab": {}
   },
   "source": [
    "#% of missing values in each column:\n",
    "def find_missing_values_func(df):    # Input parameter is dataframe        \n",
    "    mis_val = df.isnull().sum()        \n",
    "    mis_val_percent = 100 * df.isnull().sum() / len(df)        \n",
    "    mis_val_table = pd.concat([mis_val, mis_val_percent], axis=1)        \n",
    "    mis_val_table_ren_columns = mis_val_table.rename(        \n",
    "        columns = {0 : 'Missing Values', 1 : '% of Total Values'})        \n",
    "    mis_val_table_ren_columns = mis_val_table_ren_columns[            \n",
    "        mis_val_table_ren_columns.iloc[:,1] != 0].sort_values(        \n",
    "        '% of Total Values', ascending=False).round(1)        \n",
    "    print (\"Your selected dataframe has \" + str(df.shape[1]) + \" columns.\\n\"               \n",
    "           \"There are \" + str(mis_val_table_ren_columns.shape[0]) +              \n",
    "           \" columns that have missing values.\")        \n",
    "    return mis_val_table_ren_columns\n",
    "\n",
    "def drop_missing_values(df, percentage):\n",
    "    columns = df.columns\n",
    "    percent_missing = df.isnull().sum()*100/len(df)\n",
    "    missing_value_df = pd.DataFrame({'column_name': columns, 'percent_missing':percent_missing})\n",
    "    missing_drop = list(missing_value_df[missing_value_df.percent_missing>percentage].column_name)\n",
    "    df = df.drop(missing_drop, axis=1)\n",
    "    return df\n"
   ],
   "execution_count": 0,
   "outputs": []
  },
  {
   "cell_type": "code",
   "metadata": {
    "id": "e9ITZz3HJq1p",
    "colab_type": "code",
    "outputId": "31aa53c7-d549-49c8-ab48-73065733d336",
    "colab": {
     "base_uri": "https://localhost:8080/",
     "height": 878
    }
   },
   "source": [
    "# Data Reads - All required data is in data folders\n",
    "InputFolder = '/content/gdrive/My Drive/capstone-project/input_data'\n",
    "OutFolder = '/content/gdrive/My Drive/capstone-project/output_data'\n",
    "inFile = InputFolder + '/ZCUPClaimDNA-History-Data-v2.xlsx'\n",
    "df_history_dataset = pd.read_excel(inFile, \n",
    "                                   sheet_name='HistoryData',\n",
    "                                   header=0,\n",
    "                                   converters={'srlno':np.int64, \n",
    "                                               'Claim.Number':str,\n",
    "                                               'Claim.Line.Number':str,\n",
    "                                               'Member.ID':str,\n",
    "                                               'Provider.ID':str,\n",
    "                                               'Revenue.Code':str,\n",
    "                                               'Service.Code':str,\n",
    "                                               'Place.Of.Service.Code':str,\n",
    "                                               'Procedure.Code':str,\n",
    "                                               'Diagnosis.Code':str,\n",
    "                                               'Claim.Charge.Amount':np.float64,\n",
    "                                               'Denial.Reason.Code':str,\n",
    "                                               'In.Out.Of.Network':str,\n",
    "                                               'Subscriber.Payment.Amount':np.float64,\n",
    "                                               'Provider.Payment.Amount':np.float64,\n",
    "                                               'Claim.Type':str,\n",
    "                                               'Claim.Subscriber.Type':str,\n",
    "                                               'Claim.Current.Status':str,\n",
    "                                               'Network.ID':str,\n",
    "                                               'Agreement.ID':str\n",
    "                                              })\n",
    "df_labels_dataset = pd.read_excel(inFile, \n",
    "                                  sheet_name='Accept-Denial-Label', \n",
    "                                  header=0,\n",
    "                                  converters={'srlno':np.int64, \n",
    "                                              'Label':np.int64\n",
    "                                             })\n",
    "\n",
    "df_data = pd.merge(df_history_dataset, df_labels_dataset, on='Srlno')\n",
    "\n",
    "print(df_history_dataset.head())\n",
    "print(df_labels_dataset.head())\n",
    "\n",
    "print(df_history_dataset.describe())\n",
    "print(df_labels_dataset.describe())\n",
    "\n",
    "print(df_data.head())\n",
    "print(df_data.describe())"
   ],
   "execution_count": 4,
   "outputs": [
    {
     "output_type": "stream",
     "text": [
      "   Srlno Claim.Number  ...    Network.ID  Agreement.ID\n",
      "0      1     28849991  ...  P00000000002  FH001310QB01\n",
      "1      2     81404290  ...  P00000000007  FH002451QPD1\n",
      "2      3     81404290  ...  P00000000007  FH002451QPD1\n",
      "3      4     81404290  ...  P00000000007  FH002451QPD1\n",
      "4      5     81404290  ...  P00000000007  FH002451QPD1\n",
      "\n",
      "[5 rows x 20 columns]\n",
      "   Srlno  Label\n",
      "0      1      0\n",
      "1      2      0\n",
      "2      3      0\n",
      "3      4      0\n",
      "4      5      0\n",
      "               Srlno  ...  Provider.Payment.Amount\n",
      "count  472559.000000  ...            472559.000000\n",
      "mean   236280.000000  ...               299.664982\n",
      "std    136416.177266  ...              2651.754222\n",
      "min         1.000000  ...                 0.000000\n",
      "25%    118140.500000  ...                 0.000000\n",
      "50%    236280.000000  ...                 0.000000\n",
      "75%    354419.500000  ...                 0.000000\n",
      "max    472559.000000  ...            491735.224680\n",
      "\n",
      "[8 rows x 4 columns]\n",
      "               Srlno          Label\n",
      "count  472559.000000  472559.000000\n",
      "mean   236280.000000       0.004171\n",
      "std    136416.177266       0.064448\n",
      "min         1.000000       0.000000\n",
      "25%    118140.500000       0.000000\n",
      "50%    236280.000000       0.000000\n",
      "75%    354419.500000       0.000000\n",
      "max    472559.000000       1.000000\n",
      "   Srlno Claim.Number Claim.Line.Number  ...    Network.ID  Agreement.ID Label\n",
      "0      1     28849991                 1  ...  P00000000002  FH001310QB01     0\n",
      "1      2     81404290                 1  ...  P00000000007  FH002451QPD1     0\n",
      "2      3     81404290                 2  ...  P00000000007  FH002451QPD1     0\n",
      "3      4     81404290                 3  ...  P00000000007  FH002451QPD1     0\n",
      "4      5     81404290                 4  ...  P00000000007  FH002451QPD1     0\n",
      "\n",
      "[5 rows x 21 columns]\n",
      "               Srlno  ...          Label\n",
      "count  472559.000000  ...  472559.000000\n",
      "mean   236280.000000  ...       0.004171\n",
      "std    136416.177266  ...       0.064448\n",
      "min         1.000000  ...       0.000000\n",
      "25%    118140.500000  ...       0.000000\n",
      "50%    236280.000000  ...       0.000000\n",
      "75%    354419.500000  ...       0.000000\n",
      "max    472559.000000  ...       1.000000\n",
      "\n",
      "[8 rows x 5 columns]\n"
     ],
     "name": "stdout"
    }
   ]
  },
  {
   "cell_type": "markdown",
   "metadata": {
    "id": "2eBVuE5IJq1t",
    "colab_type": "text"
   },
   "source": [
    "2.4 Find Shape and data type "
   ]
  },
  {
   "cell_type": "code",
   "metadata": {
    "id": "l6fs2MpOJq1t",
    "colab_type": "code",
    "outputId": "df3d4415-1d41-4e15-e660-afdfe490b6b0",
    "colab": {
     "base_uri": "https://localhost:8080/",
     "height": 456
    }
   },
   "source": [
    "print(df_data.shape)\n",
    "dataTypeSeries = df_data.dtypes\n",
    "print(dataTypeSeries)\n",
    "\n",
    "columnsWiseMissingValue = find_missing_values_func(df_data)\n",
    "print(columnsWiseMissingValue)"
   ],
   "execution_count": 5,
   "outputs": [
    {
     "output_type": "stream",
     "text": [
      "(472559, 21)\n",
      "Srlno                          int64\n",
      "Claim.Number                  object\n",
      "Claim.Line.Number             object\n",
      "Member.ID                     object\n",
      "Provider.ID                   object\n",
      "Revenue.Code                  object\n",
      "Service.Code                  object\n",
      "Place.Of.Service.Code         object\n",
      "Procedure.Code                object\n",
      "Diagnosis.Code                object\n",
      "Claim.Charge.Amount          float64\n",
      "Denial.Reason.Code            object\n",
      "In.Out.Of.Network             object\n",
      "Subscriber.Payment.Amount    float64\n",
      "Provider.Payment.Amount      float64\n",
      "Claim.Type                    object\n",
      "Claim.Subscriber.Type         object\n",
      "Claim.Current.Status          object\n",
      "Network.ID                    object\n",
      "Agreement.ID                  object\n",
      "Label                          int64\n",
      "dtype: object\n",
      "Your selected dataframe has 21 columns.\n",
      "There are 1 columns that have missing values.\n",
      "              Missing Values  % of Total Values\n",
      "Claim.Number          174023               36.8\n"
     ],
     "name": "stdout"
    }
   ]
  },
  {
   "cell_type": "markdown",
   "metadata": {
    "id": "gMdp8SlTJq1y",
    "colab_type": "text"
   },
   "source": [
    "2.5\tTarget Value (Label) setting and cleaning"
   ]
  },
  {
   "cell_type": "markdown",
   "metadata": {
    "id": "pMx_mX8FJq10",
    "colab_type": "text"
   },
   "source": [
    "2.5.1    We will consider following valid Denial.Reason.Code F13, J8G, JO5, JB8, JE1, JC9, JF1, JF9, JG1, JPA and JES\n",
    "The goal is to develop predictive model to predict claims that would be denied with the above Denial.Reason.Code only. Any row with non-valid Denial.Reason.Code will be considered as garbage that need to be deleted\n",
    "\n",
    "Rows with label zero (0) without any Denial.Reason.Code (blank)  should be kept"
   ]
  },
  {
   "cell_type": "code",
   "metadata": {
    "id": "0lPrw792Jq11",
    "colab_type": "code",
    "outputId": "c3950d03-7697-4a1f-da90-35794fce0420",
    "colab": {
     "base_uri": "https://localhost:8080/",
     "height": 472
    }
   },
   "source": [
    "  print(df_data.groupby('Denial.Reason.Code')['Denial.Reason.Code'].count())\n",
    "\n",
    "  validReasonCodes = ['F13', 'J8G', 'JO5', 'JB8', 'JE1', 'JC9', 'JF1', 'JF9', 'JG1', 'JPA', 'JES', ' '] # added a ' ' since there are valid rows with a space in data cells for Denial Reason Code for claims that are approved\n",
    "  df_data=df_data[(df_data['Denial.Reason.Code'].isin(validReasonCodes))]\n",
    "\n",
    "  print(df_data.groupby('Denial.Reason.Code')['Denial.Reason.Code'].count())"
   ],
   "execution_count": 7,
   "outputs": [
    {
     "output_type": "stream",
     "text": [
      "Denial.Reason.Code\n",
      "       326030\n",
      "F13      1068\n",
      "J8G       382\n",
      "JB8       128\n",
      "JC9        49\n",
      "JE1        33\n",
      "JES        50\n",
      "JF1         4\n",
      "JF9        98\n",
      "JG1        10\n",
      "JO5       105\n",
      "JPA        44\n",
      "Name: Denial.Reason.Code, dtype: int64\n",
      "Denial.Reason.Code\n",
      "       326030\n",
      "F13      1068\n",
      "J8G       382\n",
      "JB8       128\n",
      "JC9        49\n",
      "JE1        33\n",
      "JES        50\n",
      "JF1         4\n",
      "JF9        98\n",
      "JG1        10\n",
      "JO5       105\n",
      "JPA        44\n",
      "Name: Denial.Reason.Code, dtype: int64\n"
     ],
     "name": "stdout"
    }
   ]
  },
  {
   "cell_type": "markdown",
   "metadata": {
    "id": "ku-Q4WPUJq16",
    "colab_type": "text"
   },
   "source": [
    "2.5.2   Check distribution of Label in terms of percentage 0/1"
   ]
  },
  {
   "cell_type": "code",
   "metadata": {
    "id": "GnpuYQ3jZ6_Z",
    "colab_type": "code",
    "outputId": "75d2315f-812b-44fa-b420-2f9b001d0c67",
    "colab": {
     "base_uri": "https://localhost:8080/",
     "height": 33
    }
   },
   "source": [
    "df_data.shape"
   ],
   "execution_count": 8,
   "outputs": [
    {
     "output_type": "execute_result",
     "data": {
      "text/plain": [
       "(328001, 21)"
      ]
     },
     "metadata": {
      "tags": []
     },
     "execution_count": 8
    }
   ]
  },
  {
   "cell_type": "code",
   "metadata": {
    "id": "-Swv3Q5MJq17",
    "colab_type": "code",
    "outputId": "5202ff2c-b9f8-46cc-b4ab-6b4563eebd07",
    "colab": {
     "base_uri": "https://localhost:8080/",
     "height": 82
    }
   },
   "source": [
    "distLabels = (df_data['Label'].value_counts()/ df_data['Label'].count())*100\n",
    "print('Distribution:\\n{}'.format(distLabels))"
   ],
   "execution_count": 9,
   "outputs": [
    {
     "output_type": "stream",
     "text": [
      "Distribution:\n",
      "0    99.399087\n",
      "1     0.600913\n",
      "Name: Label, dtype: float64\n"
     ],
     "name": "stdout"
    }
   ]
  },
  {
   "cell_type": "markdown",
   "metadata": {
    "id": "ksoOIfaEJq1_",
    "colab_type": "text"
   },
   "source": [
    "2.5.3   Find number of  distinct valid Denial.Reason.Code"
   ]
  },
  {
   "cell_type": "code",
   "metadata": {
    "id": "VHiZliBhJq2B",
    "colab_type": "code",
    "outputId": "8af4735f-3a36-4530-eaa8-1de075d00902",
    "colab": {
     "base_uri": "https://localhost:8080/",
     "height": 33
    }
   },
   "source": [
    "print(df_data['Denial.Reason.Code'].unique())"
   ],
   "execution_count": 10,
   "outputs": [
    {
     "output_type": "stream",
     "text": [
      "[' ' 'JB8' 'J8G' 'F13' 'JF1' 'JE1' 'JES' 'JO5' 'JG1' 'JPA' 'JC9' 'JF9']\n"
     ],
     "name": "stdout"
    }
   ]
  },
  {
   "cell_type": "markdown",
   "metadata": {
    "id": "f_jIVQyYJq2H",
    "colab_type": "text"
   },
   "source": [
    "2.6\tHandling Predictor Variables\n",
    "Predictors variables ( All input variables except Target variable)  that are used to predict the 'Target Variable'.\n"
   ]
  },
  {
   "cell_type": "markdown",
   "metadata": {
    "id": "9RQOjw5SJq2I",
    "colab_type": "text"
   },
   "source": [
    "2.6.1  Identify\n",
    "\n",
    "•\tcontinuous numeric value\n",
    "•\ttag/code value\n",
    "•\tOther columns ID type."
   ]
  },
  {
   "cell_type": "code",
   "metadata": {
    "id": "pduWXyyzJq2J",
    "colab_type": "code",
    "colab": {}
   },
   "source": [],
   "execution_count": 0,
   "outputs": []
  },
  {
   "cell_type": "markdown",
   "metadata": {
    "id": "sxkxj-_pJq2O",
    "colab_type": "text"
   },
   "source": [
    "2.6.2  Find"
   ]
  },
  {
   "cell_type": "code",
   "metadata": {
    "id": "G-GWjb8gJq2P",
    "colab_type": "code",
    "outputId": "3fec3eb0-38b7-4be5-dd80-77bb57bbe28b",
    "colab": {
     "base_uri": "https://localhost:8080/",
     "height": 472
    }
   },
   "source": [
    "print(df_data['Revenue.Code'].unique())\n",
    "print(df_data['Service.Code'].unique())\n",
    "print(df_data['Diagnosis.Code'].unique())"
   ],
   "execution_count": 11,
   "outputs": [
    {
     "output_type": "stream",
     "text": [
      "['128' '24' '250' '258' '271' '300' '301' '305' '306' '307' '309' '420'\n",
      " '424' '430' '434' '440' '444' '636' '351' '324' '352' '410' '730' '361'\n",
      " '302' '320' '350' '390' '274' '370' '921' '450' '915' '912' '126' '124'\n",
      " '914' '771' '483' '913' '740' '121' '402' '905' '341' '343' '482' '762'\n",
      " '949' '431' '421' '761' '359' '333' '943' '441' '433' '272' '490' '710'\n",
      " '278' '259' '750' '312' '510' '360' '637' '329' '206' '200' '460' '481'\n",
      " '270' '275' '480' '276' '611' '310' '314' '261' '369' '920' '940' '941'\n",
      " '911' '919' '917' '111' '260' '403' '279' '391' '918' '801' '999' '311'\n",
      " '610' '612' '401' '323' '344' '731' '981' '412' '812' '127' '322' '819'\n",
      " '404' '829' '131' '633' '615' '335' '614' ' ' '922' '822' '400' '732'\n",
      " '25' '929' '948' '942' '622' '616' '342' '129' '635' '634' '118' '331'\n",
      " '443' '255' '136' '134' '254' '117' '249' '100' '122' '171' '720' '210'\n",
      " '723' '821' '722' '471' '112' '172' '900' '916' '123' '120' '618' '174'\n",
      " '205' '790' 'XXXX' '173' '831' '901' '413' '832' '811' '881' '810' '419'\n",
      " '682' '214' '851' '804' '489' '770' '179' '191' '721' '371' '515' '208'\n",
      " '760' '684']\n",
      "['RR8I' 'AL7I' 'HV7I' 'CT7I' 'ER7O' 'SB7Y' 'ER7I' 'RT8I' 'RM8I' 'RM8W'\n",
      " 'MP7O' 'SB7W' 'LA7O' 'MH7O' 'IO7O' 'RB8I' 'RA7O' 'MD7O' 'TH7X' ' ' 'TH7O'\n",
      " 'OE7O' 'ST7O' 'OP7O' 'CT7O' 'RD7O' 'CR7O' 'SU7A' 'SU7O' 'CL7O' 'CT7Y'\n",
      " 'CO7Y' 'IN7I' 'CD7O' 'BS7O' 'IC7I' 'MR7O' 'DU7O' 'OM7O' 'OE7I' 'MR7I'\n",
      " 'BF7O' 'RB7I' 'IH7O' 'IMY' 'PN7O' 'PF7O' 'TO7W' 'MR7Y' 'RJ7Y' 'PE7O'\n",
      " 'DI7O' 'CT8Y' 'RB9I' 'SI7Y' 'TE7O' 'THO' 'SA7A' 'DM7O' 'IJV' 'IHV' 'RR7I'\n",
      " 'MR8Y' 'ERI' 'CDI' 'ST7X' 'OV6I' 'RK8Y' 'RL8Y' 'CC8A' 'RT9I' 'RM9I'\n",
      " 'RB7W' 'RI7I' 'RY8I' 'NS7I' 'CC7I' 'GB7A' 'RY7I' 'NI7I' 'PE7Y' 'UNI'\n",
      " 'RV8W' 'RY8W' 'EC7O' 'MSO' 'RAO' 'MRO' 'MH7I' 'RV7W' 'RY7W' 'RI7Y' 'HHC'\n",
      " 'THI' 'HD7O' 'MM7Y' 'CO8Y' 'LAV' 'OV6V' 'SUI' 'RA1I' 'MDO' 'PCI' 'OVV'\n",
      " 'MDV' 'SUV' 'PCV' 'CDO' 'MDI' 'RAV' 'DMV' 'OVO' 'RO7I' 'PE7I' 'RK7Y']\n",
      "['V5789' '2910' '43491' ... '40301' '78829' '6819']\n"
     ],
     "name": "stdout"
    }
   ]
  },
  {
   "cell_type": "markdown",
   "metadata": {
    "id": "32hHH2a9Jq2W",
    "colab_type": "text"
   },
   "source": [
    "2.6.3  Handling Categorical Values"
   ]
  },
  {
   "cell_type": "code",
   "metadata": {
    "id": "SJqWaS4mJq2X",
    "colab_type": "code",
    "outputId": "49eee26c-f041-4b1a-a875-47b70d1cafb8",
    "colab": {
     "base_uri": "https://localhost:8080/",
     "height": 82
    }
   },
   "source": [
    "#2.6.3.1 Clubbing of Category Value (1 ,2,3 – High , Medium , Low possibility group respectively)\n",
    "\n",
    "# Revenue Code\n",
    "High_Revenue_Code = [\"810\", \"811\", \"124\", \"261\", \"260\", \"331\", \"914\", \"174\", \"634\", \"173\", \"682\", \"126\", \"128\", \"172\", \"127\", \"200\", \"821\", \"134\", \"302\", \"740\", \"249\", \"270\", \"771\", \"361\", \"310\", \"434\"]\n",
    "Medium_Revenue_Code= [\"210\", \"275\", \"122\", \"610\", \"206\", \"258\", \"444\", \"278\", \"117\", \"259\", \"121\", \"112\", \"276\", \"731\", \"750\", \"460\", \"360\", \"271\", \"730\", \"307\", \"424\", \"370\", \"250\", \"410\", \"940\", \"305\", \"350\", \"921\", \"480\", \"111\", \"351\", \"920\", \"636\", \"309\", \"300\", \"390\", \"301\", \"450\", \"440\", \"306\", \"311\", \"324\", \"710\", \"341\", \"272\", \"343\", \"942\", \"171\", \"482\", \"420\", \"490\", \"483\", \"312\", \"481\", \"352\", \"510\", \"402\", \"320\", \"720\", \"762\", \"761\", \"430\", \"403\"]\n",
    "\n",
    "df_data.loc[df_data['Revenue.Code'].isin(High_Revenue_Code), 'Revenue.Code.Group'] = 1\n",
    "df_data.loc[df_data['Revenue.Code'].isin(Medium_Revenue_Code), 'Revenue.Code.Group' ] = 2\n",
    "df_data.loc[~df_data['Revenue.Code'].isin(High_Revenue_Code + Medium_Revenue_Code), 'Revenue.Code.Group'] = 3\n",
    "print(df_data['Revenue.Code.Group'].value_counts())"
   ],
   "execution_count": 12,
   "outputs": [
    {
     "output_type": "stream",
     "text": [
      "2.0    281326\n",
      "3.0     30655\n",
      "1.0     16020\n",
      "Name: Revenue.Code.Group, dtype: int64\n"
     ],
     "name": "stdout"
    }
   ]
  },
  {
   "cell_type": "code",
   "metadata": {
    "id": "eTyasTwtlTC8",
    "colab_type": "code",
    "outputId": "071dcce8-e7d0-4425-cd59-3f96ca05fa82",
    "colab": {
     "base_uri": "https://localhost:8080/",
     "height": 211
    }
   },
   "source": [
    "df_data.head(5)"
   ],
   "execution_count": 13,
   "outputs": [
    {
     "output_type": "execute_result",
     "data": {
      "text/html": [
       "<div>\n",
       "<style scoped>\n",
       "    .dataframe tbody tr th:only-of-type {\n",
       "        vertical-align: middle;\n",
       "    }\n",
       "\n",
       "    .dataframe tbody tr th {\n",
       "        vertical-align: top;\n",
       "    }\n",
       "\n",
       "    .dataframe thead th {\n",
       "        text-align: right;\n",
       "    }\n",
       "</style>\n",
       "<table border=\"1\" class=\"dataframe\">\n",
       "  <thead>\n",
       "    <tr style=\"text-align: right;\">\n",
       "      <th></th>\n",
       "      <th>Srlno</th>\n",
       "      <th>Claim.Number</th>\n",
       "      <th>Claim.Line.Number</th>\n",
       "      <th>Member.ID</th>\n",
       "      <th>Provider.ID</th>\n",
       "      <th>Revenue.Code</th>\n",
       "      <th>Service.Code</th>\n",
       "      <th>Place.Of.Service.Code</th>\n",
       "      <th>Procedure.Code</th>\n",
       "      <th>Diagnosis.Code</th>\n",
       "      <th>Claim.Charge.Amount</th>\n",
       "      <th>Denial.Reason.Code</th>\n",
       "      <th>In.Out.Of.Network</th>\n",
       "      <th>Subscriber.Payment.Amount</th>\n",
       "      <th>Provider.Payment.Amount</th>\n",
       "      <th>Claim.Type</th>\n",
       "      <th>Claim.Subscriber.Type</th>\n",
       "      <th>Claim.Current.Status</th>\n",
       "      <th>Network.ID</th>\n",
       "      <th>Agreement.ID</th>\n",
       "      <th>Label</th>\n",
       "      <th>Revenue.Code.Group</th>\n",
       "    </tr>\n",
       "  </thead>\n",
       "  <tbody>\n",
       "    <tr>\n",
       "      <th>0</th>\n",
       "      <td>1</td>\n",
       "      <td>28849991</td>\n",
       "      <td>1</td>\n",
       "      <td>9583423</td>\n",
       "      <td>FA0001411002</td>\n",
       "      <td>128</td>\n",
       "      <td>RR8I</td>\n",
       "      <td></td>\n",
       "      <td></td>\n",
       "      <td>V5789</td>\n",
       "      <td>19356.960000</td>\n",
       "      <td></td>\n",
       "      <td>I</td>\n",
       "      <td>0.0</td>\n",
       "      <td>15036.21</td>\n",
       "      <td>M</td>\n",
       "      <td>H</td>\n",
       "      <td>2</td>\n",
       "      <td>P00000000002</td>\n",
       "      <td>FH001310QB01</td>\n",
       "      <td>0</td>\n",
       "      <td>1.0</td>\n",
       "    </tr>\n",
       "    <tr>\n",
       "      <th>1</th>\n",
       "      <td>2</td>\n",
       "      <td>81404290</td>\n",
       "      <td>1</td>\n",
       "      <td>25210465</td>\n",
       "      <td>FA0001411002</td>\n",
       "      <td>24</td>\n",
       "      <td>AL7I</td>\n",
       "      <td></td>\n",
       "      <td>A0205</td>\n",
       "      <td>V5789</td>\n",
       "      <td>0.000000</td>\n",
       "      <td></td>\n",
       "      <td>I</td>\n",
       "      <td>0.0</td>\n",
       "      <td>0.00</td>\n",
       "      <td>M</td>\n",
       "      <td>H</td>\n",
       "      <td>91</td>\n",
       "      <td>P00000000007</td>\n",
       "      <td>FH002451QPD1</td>\n",
       "      <td>0</td>\n",
       "      <td>3.0</td>\n",
       "    </tr>\n",
       "    <tr>\n",
       "      <th>3</th>\n",
       "      <td>4</td>\n",
       "      <td>81404290</td>\n",
       "      <td>3</td>\n",
       "      <td>25210465</td>\n",
       "      <td>FA0001411002</td>\n",
       "      <td>250</td>\n",
       "      <td>AL7I</td>\n",
       "      <td></td>\n",
       "      <td></td>\n",
       "      <td>V5789</td>\n",
       "      <td>2262.097800</td>\n",
       "      <td></td>\n",
       "      <td>I</td>\n",
       "      <td>0.0</td>\n",
       "      <td>0.00</td>\n",
       "      <td>M</td>\n",
       "      <td>H</td>\n",
       "      <td>91</td>\n",
       "      <td>P00000000007</td>\n",
       "      <td>FH002451QPD1</td>\n",
       "      <td>0</td>\n",
       "      <td>2.0</td>\n",
       "    </tr>\n",
       "    <tr>\n",
       "      <th>4</th>\n",
       "      <td>5</td>\n",
       "      <td>81404290</td>\n",
       "      <td>4</td>\n",
       "      <td>25210465</td>\n",
       "      <td>FA0001411002</td>\n",
       "      <td>258</td>\n",
       "      <td>AL7I</td>\n",
       "      <td></td>\n",
       "      <td></td>\n",
       "      <td>V5789</td>\n",
       "      <td>284.712735</td>\n",
       "      <td></td>\n",
       "      <td>I</td>\n",
       "      <td>0.0</td>\n",
       "      <td>0.00</td>\n",
       "      <td>M</td>\n",
       "      <td>H</td>\n",
       "      <td>91</td>\n",
       "      <td>P00000000007</td>\n",
       "      <td>FH002451QPD1</td>\n",
       "      <td>0</td>\n",
       "      <td>2.0</td>\n",
       "    </tr>\n",
       "    <tr>\n",
       "      <th>6</th>\n",
       "      <td>7</td>\n",
       "      <td>81404290</td>\n",
       "      <td>6</td>\n",
       "      <td>25210465</td>\n",
       "      <td>FA0001411002</td>\n",
       "      <td>271</td>\n",
       "      <td>AL7I</td>\n",
       "      <td></td>\n",
       "      <td></td>\n",
       "      <td>V5789</td>\n",
       "      <td>38.146050</td>\n",
       "      <td></td>\n",
       "      <td>I</td>\n",
       "      <td>0.0</td>\n",
       "      <td>0.00</td>\n",
       "      <td>M</td>\n",
       "      <td>H</td>\n",
       "      <td>91</td>\n",
       "      <td>P00000000007</td>\n",
       "      <td>FH002451QPD1</td>\n",
       "      <td>0</td>\n",
       "      <td>2.0</td>\n",
       "    </tr>\n",
       "  </tbody>\n",
       "</table>\n",
       "</div>"
      ],
      "text/plain": [
       "   Srlno Claim.Number  ... Label Revenue.Code.Group\n",
       "0      1     28849991  ...     0                1.0\n",
       "1      2     81404290  ...     0                3.0\n",
       "3      4     81404290  ...     0                2.0\n",
       "4      5     81404290  ...     0                2.0\n",
       "6      7     81404290  ...     0                2.0\n",
       "\n",
       "[5 rows x 22 columns]"
      ]
     },
     "metadata": {
      "tags": []
     },
     "execution_count": 13
    }
   ]
  },
  {
   "cell_type": "code",
   "metadata": {
    "id": "rbIdIDLwgK0H",
    "colab_type": "code",
    "outputId": "9834a3e0-d652-43ce-8c27-d0e91f53b805",
    "colab": {
     "base_uri": "https://localhost:8080/",
     "height": 82
    }
   },
   "source": [
    "# Service Code\n",
    "High_Service_Code = [\"UNI\", \"RL8Y\", \"RM8W\", \"DU7O\", \"IH7O\", \"RM8I\", \"RI7Y\", \"SB7W\", \"GB7A\", \"NI7I\", \"OVV\", \"RM9I\", \"RR8I\", \"IMY\", \"RT8I\", \"RY8W\", \"RY7I\", \"IC7I\", \"SU7A\", \"ER7I\"]\n",
    "Medium_Service_Code = [\"TO7W\", \"TE7O\", \"CC7I\", \"HV7I\", \"MR7O\", \"IN7I\", \"AL7I\", \"DI7O\", \"CT8Y\", \"RB7W\", \"RV8W\", \"CT7I\", \"RB8I\", \"RK8Y\", \"RB7I\", \"OE7I\", \"RY8I\", \"OP7O\", \"LA7O\", \"NS7I\", \"CL7O\", \"MR7Y\", \"ER7O\", \"CT7Y\", \"CT7O\", \"RA7O\", \"MD7O\", \"TH7O\"]\n",
    "df_data.loc[df_data['Service.Code'].isin(High_Service_Code), 'Service.Code.Group'] = 1\n",
    "df_data.loc[df_data['Service.Code'].isin(Medium_Service_Code), 'Service.Code.Group'] = 2\n",
    "df_data.loc[~df_data['Service.Code'].isin(High_Service_Code + Medium_Service_Code), 'Service.Code.Group'] = 3\n",
    "\n",
    "print(df_data['Service.Code.Group'].value_counts())"
   ],
   "execution_count": 14,
   "outputs": [
    {
     "output_type": "stream",
     "text": [
      "2.0    263130\n",
      "1.0     41143\n",
      "3.0     23728\n",
      "Name: Service.Code.Group, dtype: int64\n"
     ],
     "name": "stdout"
    }
   ]
  },
  {
   "cell_type": "code",
   "metadata": {
    "id": "kS1k3BQdgOZC",
    "colab_type": "code",
    "outputId": "62e37e62-5d73-4eb2-f83b-884a9821545f",
    "colab": {
     "base_uri": "https://localhost:8080/",
     "height": 82
    }
   },
   "source": [
    "# Diagnosis Code\n",
    "High_Diagnosis_Code = [\"2929\", \"29690\", \"V202\", \"29663\", \"29622\", \"9962\", \"67524\", \"5193\", \"V045\", \"29530\", \"7999\", \"430\", \"29664\", \"5711\", \"79095\", \"30411\", \"29189\", \"6162\", \"29570\", \"29630\", \"29644\", \"5289\", \"20240\", \"99741\", \"37943\", \"9352\", \"V08\", \"V1255\", \"V5041\", \"80225\", \"6108\", \"57480\", \"5070\", \"V6284\", \"52460\", \"8024\", \"99681\", \"V3101\"]\n",
    "Medium_Diagnosis_Code = [\"75249\", \"71100\", \"29660\", \"78722\", \"2273\", \"6868\", \"64844\", \"73671\", \"37730\", \"61804\", \"6146\", \"V5831\", \"2989\", \"7503\", \"72992\", \"29181\", \"2452\", \"80841\", \"8250\", \"66111\", \"9950\", \"29640\", \"9220\", \"99563\", \"7222\", \"29650\", \"65811\", \"29632\", \"52403\", \"99676\", \"27541\", \"4168\", \"2102\", \"2182\", \"0090\", \"34691\", \"5738\", \"68100\", \"2776\", \"1809\", \"5362\", \"29633\", \"29680\", \"61801\", \"34290\", \"72990\", \"64981\", \"2912\", \"6170\", \"1746\", \"6183\", \"78499\", \"52489\", \"53551\", \"42823\", \"30501\", \"3682\", \"V3000\", \"7226\", \"64303\", \"24200\", \"8832\", \"57470\", \"9726\", \"29689\", \"5409\", \"8248\", \"73730\", \"2181\", \"57450\", \"85011\", \"6121\", \"64893\", \"6253\", \"99883\", \"96501\", \"193\", \"53190\", \"6268\", \"42841\", \"226\", \"57400\", \"4280\", \"1960\", \"69589\", \"2777\", \"2180\", \"1743\", \"1742\", \"179\", \"6110\", \"6272\", \"60001\", \"53240\", \"V552\", \"6827\", \"5559\", \"6185\", \"8600\", \"81305\", \"07054\", \"0479\", \"45340\", \"6824\", \"5551\", \"38611\", \"5941\", \"2271\", \"72888\", \"80703\", \"6227\", \"6823\", \"6184\", \"4377\", \"62212\", \"72210\", \"2891\", \"5533\", \"5722\", \"8246\", \"V510\", \"6111\", \"2572\", \"2720\", \"5789\", \"55321\", \"3688\", \"2189\", \"2410\", \"1541\", \"5856\", \"65231\", \"6262\", \"5609\", \"5641\", \"7455\", \"1550\", \"2875\", \"220\", \"78720\", \"30300\", \"81209\", \"566\", \"99812\", \"56032\", \"4321\", \"1745\", \"78630\", \"5119\", \"5400\", \"34590\", \"57511\", \"30400\", \"4940\", \"5770\", \"25201\", \"75612\", \"78057\", \"6181\", \"61179\", \"1749\", \"27651\", \"73819\", \"78799\", \"00845\", \"56400\", \"99832\", \"5712\", \"4589\", \"42741\", \"78701\", \"4659\", \"57420\", \"30500\", \"7804\", \"30391\", \"5693\", \"1744\", \"6100\", \"41401\", \"55092\", \"5589\", \"61172\", \"99674\", \"1741\", \"61189\", \"49392\", \"82525\", \"9351\", \"V5331\", \"2910\", \"78901\", \"5303\", \"80126\", \"6271\", \"2141\", \"7842\", \"59970\", \"25002\", \"78791\", \"1748\", \"8500\", \"78900\", \"217\", \"1985\", \"79389\", \"42731\", \"78906\", \"99673\", \"7384\", \"78009\", \"650\", \"6210\", \"51881\", \"81342\", \"78659\", \"72402\", \"56210\", \"2851\", \"49322\", \"486\", \"55090\", \"2920\", \"56211\", \"V700\", \"57410\", \"4359\", \"5921\", \"03849\", \"78903\", \"53550\", \"7840\", \"2330\", \"64403\", \"33819\", \"6826\", \"78907\", \"V5811\", \"6202\", \"78652\", \"431\", \"V6759\", \"78079\", \"72252\", \"7802\", \"2809\", \"V7651\", \"7295\", \"78650\", \"65421\", \"0389\", \"43491\", \"78909\", \"2859\", \"V7611\", \"V7612\", \"3669\", \"V5789\", \"V571\"]\n",
    "\n",
    "df_data.loc[df_data['Diagnosis.Code'].isin(High_Diagnosis_Code), 'Diagnosis.Code.Group'] = 1\n",
    "df_data.loc[df_data['Diagnosis.Code'].isin(Medium_Diagnosis_Code), 'Diagnosis.Code.Group'] = 2,\n",
    "df_data.loc[~df_data['Diagnosis.Code'].isin(High_Diagnosis_Code + Medium_Diagnosis_Code), 'Diagnosis.Code.Group'] = 3\n",
    "\n",
    "print(df_data['Diagnosis.Code.Group'].value_counts())"
   ],
   "execution_count": 15,
   "outputs": [
    {
     "output_type": "stream",
     "text": [
      "2.0    165015\n",
      "3.0    160775\n",
      "1.0      2211\n",
      "Name: Diagnosis.Code.Group, dtype: int64\n"
     ],
     "name": "stdout"
    }
   ]
  },
  {
   "cell_type": "code",
   "metadata": {
    "id": "xf7VDwgHgzMN",
    "colab_type": "code",
    "outputId": "5c4a2ad3-8615-49bd-e9b0-b2e48ac0bc7f",
    "colab": {
     "base_uri": "https://localhost:8080/",
     "height": 66
    }
   },
   "source": [
    "print(df_data['Revenue.Code.Group'].unique())\n",
    "print(df_data['Service.Code.Group'].unique())\n",
    "print(df_data['Diagnosis.Code.Group'].unique())"
   ],
   "execution_count": 16,
   "outputs": [
    {
     "output_type": "stream",
     "text": [
      "[1. 3. 2.]\n",
      "[1. 2. 3.]\n",
      "[2. 1. 3.]\n"
     ],
     "name": "stdout"
    }
   ]
  },
  {
   "cell_type": "markdown",
   "metadata": {
    "id": "4YUTgtNKJq2d",
    "colab_type": "text"
   },
   "source": [
    "2.6.4          Find column wise missing value in percentage  "
   ]
  },
  {
   "cell_type": "code",
   "metadata": {
    "id": "tx41NFyNJq2e",
    "colab_type": "code",
    "outputId": "88c6997f-7c69-4e88-fb9f-0bb24b98a7ab",
    "colab": {
     "base_uri": "https://localhost:8080/",
     "height": 423
    }
   },
   "source": [
    "percent_missing = df_data.isnull().sum() *100 / len(df_data)\n",
    "print(percent_missing)"
   ],
   "execution_count": 17,
   "outputs": [
    {
     "output_type": "stream",
     "text": [
      "Srlno                         0.000000\n",
      "Claim.Number                 53.055631\n",
      "Claim.Line.Number             0.000000\n",
      "Member.ID                     0.000000\n",
      "Provider.ID                   0.000000\n",
      "Revenue.Code                  0.000000\n",
      "Service.Code                  0.000000\n",
      "Place.Of.Service.Code         0.000000\n",
      "Procedure.Code                0.000000\n",
      "Diagnosis.Code                0.000000\n",
      "Claim.Charge.Amount           0.000000\n",
      "Denial.Reason.Code            0.000000\n",
      "In.Out.Of.Network             0.000000\n",
      "Subscriber.Payment.Amount     0.000000\n",
      "Provider.Payment.Amount       0.000000\n",
      "Claim.Type                    0.000000\n",
      "Claim.Subscriber.Type         0.000000\n",
      "Claim.Current.Status          0.000000\n",
      "Network.ID                    0.000000\n",
      "Agreement.ID                  0.000000\n",
      "Label                         0.000000\n",
      "Revenue.Code.Group            0.000000\n",
      "Service.Code.Group            0.000000\n",
      "Diagnosis.Code.Group          0.000000\n",
      "dtype: float64\n"
     ],
     "name": "stdout"
    }
   ]
  },
  {
   "cell_type": "markdown",
   "metadata": {
    "id": "OCTwNKOeJq2l",
    "colab_type": "text"
   },
   "source": [
    "2.6.5\t       Find Duplicate rows and drop those"
   ]
  },
  {
   "cell_type": "code",
   "metadata": {
    "id": "ybKNotDDJq2m",
    "colab_type": "code",
    "colab": {}
   },
   "source": [
    "df_data=df_data.drop_duplicates(subset=None, keep = 'first', inplace=False)"
   ],
   "execution_count": 0,
   "outputs": []
  },
  {
   "cell_type": "markdown",
   "metadata": {
    "id": "9g7BQG17oH8x",
    "colab_type": "text"
   },
   "source": [
    "2.6.6 Drop columns having 60% and more NULL values"
   ]
  },
  {
   "cell_type": "code",
   "metadata": {
    "id": "E0xM-_V4nf3N",
    "colab_type": "code",
    "outputId": "65d1b253-505d-4be7-8baf-50f5df2a551b",
    "colab": {
     "base_uri": "https://localhost:8080/",
     "height": 147
    }
   },
   "source": [
    "columnsWiseMissingValue = find_missing_values_func(df_data)\n",
    "print(columnsWiseMissingValue)\n",
    "\n",
    "df_data.dropna(thresh=len(df_data)*0.4, axis=1, inplace=True)\n",
    "\n",
    "columnsWiseMissingValue = find_missing_values_func(df_data)\n",
    "print(columnsWiseMissingValue)"
   ],
   "execution_count": 19,
   "outputs": [
    {
     "output_type": "stream",
     "text": [
      "Your selected dataframe has 24 columns.\n",
      "There are 1 columns that have missing values.\n",
      "              Missing Values  % of Total Values\n",
      "Claim.Number          174023               53.1\n",
      "Your selected dataframe has 24 columns.\n",
      "There are 1 columns that have missing values.\n",
      "              Missing Values  % of Total Values\n",
      "Claim.Number          174023               53.1\n"
     ],
     "name": "stdout"
    }
   ]
  },
  {
   "cell_type": "markdown",
   "metadata": {
    "id": "qN10Coznn8KW",
    "colab_type": "text"
   },
   "source": [
    "2.6.7 Make sure all accepted code (Label=0)  must not have any denial-code-reason"
   ]
  },
  {
   "cell_type": "code",
   "metadata": {
    "id": "xYdxzA5TnlDy",
    "colab_type": "code",
    "colab": {
     "base_uri": "https://localhost:8080/",
     "height": 472
    },
    "outputId": "48be7340-48f6-4243-88ca-e0b3a736e1ed"
   },
   "source": [
    "print(df_data.groupby(['Denial.Reason.Code', 'Label'])['Denial.Reason.Code'].count())\n",
    "df_data.replace(r'^\\s*$', np.nan, regex=True) # Replacing white space in Denial Reason Code by nan\n",
    "print(df_data.groupby(['Denial.Reason.Code','Label'])['Denial.Reason.Code'].count())"
   ],
   "execution_count": 27,
   "outputs": [
    {
     "output_type": "stream",
     "text": [
      "Denial.Reason.Code  Label\n",
      "                    0        326030\n",
      "F13                 1          1068\n",
      "J8G                 1           382\n",
      "JB8                 1           128\n",
      "JC9                 1            49\n",
      "JE1                 1            33\n",
      "JES                 1            50\n",
      "JF1                 1             4\n",
      "JF9                 1            98\n",
      "JG1                 1            10\n",
      "JO5                 1           105\n",
      "JPA                 1            44\n",
      "Name: Denial.Reason.Code, dtype: int64\n",
      "Denial.Reason.Code  Label\n",
      "                    0        326030\n",
      "F13                 1          1068\n",
      "J8G                 1           382\n",
      "JB8                 1           128\n",
      "JC9                 1            49\n",
      "JE1                 1            33\n",
      "JES                 1            50\n",
      "JF1                 1             4\n",
      "JF9                 1            98\n",
      "JG1                 1            10\n",
      "JO5                 1           105\n",
      "JPA                 1            44\n",
      "Name: Denial.Reason.Code, dtype: int64\n"
     ],
     "name": "stdout"
    }
   ]
  },
  {
   "cell_type": "markdown",
   "metadata": {
    "id": "IZ58zvTPJq2r",
    "colab_type": "text"
   },
   "source": [
    "2.6.8\t       Drop all useless columns – not required for Machine learning"
   ]
  },
  {
   "cell_type": "code",
   "metadata": {
    "id": "H7OWw8V2Jq2s",
    "colab_type": "code",
    "colab": {}
   },
   "source": [
    "Useless_columns = ['Srlno', 'Revenue.Code', 'Service.Code', 'Diagnosis.Code']\n",
    "df_data.drop(Useless_columns, axis = 1, inplace=True) "
   ],
   "execution_count": 0,
   "outputs": []
  },
  {
   "cell_type": "code",
   "metadata": {
    "id": "gS3n80HPunk3",
    "colab_type": "code",
    "colab": {}
   },
   "source": [
    "# rearrange columns - so label will be in the last column\n",
    "df_data = df_data[['Claim.Number', 'Claim.Line.Number', 'Member.ID', 'Provider.ID',\n",
    "       'Place.Of.Service.Code', 'Procedure.Code', 'Claim.Charge.Amount',\n",
    "       'Denial.Reason.Code', 'In.Out.Of.Network', 'Subscriber.Payment.Amount',\n",
    "       'Provider.Payment.Amount', 'Claim.Type', 'Claim.Subscriber.Type',\n",
    "       'Claim.Current.Status', 'Network.ID', 'Agreement.ID', \n",
    "       'Revenue.Code.Group', 'Service.Code.Group', 'Diagnosis.Code.Group', 'Label',]]\n"
   ],
   "execution_count": 0,
   "outputs": []
  },
  {
   "cell_type": "markdown",
   "metadata": {
    "id": "k-qwsiaXJq2x",
    "colab_type": "text"
   },
   "source": [
    "2.6.9\t       Check distribution of Label in terms of percentage 0/1"
   ]
  },
  {
   "cell_type": "code",
   "metadata": {
    "id": "cdu69NHYJq2y",
    "colab_type": "code",
    "outputId": "ab84862f-6fc1-4ecb-c34c-e8a6f132210b",
    "colab": {
     "base_uri": "https://localhost:8080/",
     "height": 66
    }
   },
   "source": [
    "distLabels = (df_data['Label'].value_counts()/ df_data['Label'].count())*100\n",
    "print(distLabels)"
   ],
   "execution_count": 23,
   "outputs": [
    {
     "output_type": "stream",
     "text": [
      "0    99.399087\n",
      "1     0.600913\n",
      "Name: Label, dtype: float64\n"
     ],
     "name": "stdout"
    }
   ]
  },
  {
   "cell_type": "markdown",
   "metadata": {
    "id": "QnxnuLNkJq21",
    "colab_type": "text"
   },
   "source": [
    "2.6.10\t       Write processed and clean data set  to a csv file"
   ]
  },
  {
   "cell_type": "code",
   "metadata": {
    "id": "ZU6_2J3aVoXk",
    "colab_type": "code",
    "outputId": "3d9e10b1-ff77-4dbc-9781-59698b1dbda3",
    "colab": {
     "base_uri": "https://localhost:8080/",
     "height": 456
    }
   },
   "source": [
    "df_data.info()"
   ],
   "execution_count": 24,
   "outputs": [
    {
     "output_type": "stream",
     "text": [
      "<class 'pandas.core.frame.DataFrame'>\n",
      "Int64Index: 328001 entries, 0 to 472558\n",
      "Data columns (total 20 columns):\n",
      " #   Column                     Non-Null Count   Dtype  \n",
      "---  ------                     --------------   -----  \n",
      " 0   Claim.Number               153978 non-null  object \n",
      " 1   Claim.Line.Number          328001 non-null  object \n",
      " 2   Member.ID                  328001 non-null  object \n",
      " 3   Provider.ID                328001 non-null  object \n",
      " 4   Place.Of.Service.Code      328001 non-null  object \n",
      " 5   Procedure.Code             328001 non-null  object \n",
      " 6   Claim.Charge.Amount        328001 non-null  float64\n",
      " 7   Denial.Reason.Code         328001 non-null  object \n",
      " 8   In.Out.Of.Network          328001 non-null  object \n",
      " 9   Subscriber.Payment.Amount  328001 non-null  float64\n",
      " 10  Provider.Payment.Amount    328001 non-null  float64\n",
      " 11  Claim.Type                 328001 non-null  object \n",
      " 12  Claim.Subscriber.Type      328001 non-null  object \n",
      " 13  Claim.Current.Status       328001 non-null  object \n",
      " 14  Network.ID                 328001 non-null  object \n",
      " 15  Agreement.ID               328001 non-null  object \n",
      " 16  Revenue.Code.Group         328001 non-null  float64\n",
      " 17  Service.Code.Group         328001 non-null  float64\n",
      " 18  Diagnosis.Code.Group       328001 non-null  float64\n",
      " 19  Label                      328001 non-null  int64  \n",
      "dtypes: float64(6), int64(1), object(13)\n",
      "memory usage: 52.6+ MB\n"
     ],
     "name": "stdout"
    }
   ]
  },
  {
   "cell_type": "code",
   "metadata": {
    "id": "jYJGW5sWJq22",
    "colab_type": "code",
    "colab": {}
   },
   "source": [
    "df_data.to_csv(OutFolder+\"/CleanData.csv\",index=False)    "
   ],
   "execution_count": 0,
   "outputs": []
  }
 ]
}